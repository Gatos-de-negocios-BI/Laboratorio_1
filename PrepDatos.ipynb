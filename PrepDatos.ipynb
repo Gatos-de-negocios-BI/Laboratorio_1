{
 "cells": [
  {
   "cell_type": "markdown",
   "metadata": {},
   "source": [
    "- Diabetic           yes\n",
    "- Race               other\n",
    "- Sex                indefinido\n",
    "- GenHealth          Primero arreglar los ya definidos(Very good/Good/Excellent/Fair/Poor), los que no hacen parte del grupo \n",
    "cambiar a undefined, sacar moda y cambiar undefined a moda.\n",
    "- Smoking            yes\n",
    "- Stroke             yes\n",
    "- BMI                promedio dependiendo del genero \n",
    "\n"
   ]
  },
  {
   "cell_type": "code",
   "execution_count": 1,
   "metadata": {},
   "outputs": [],
   "source": [
    "import pickle as pkl\n",
    "import numpy as np\n",
    "import pandas as pd"
   ]
  },
  {
   "cell_type": "code",
   "execution_count": 2,
   "metadata": {},
   "outputs": [],
   "source": [
    "dataOriginal = pd.read_csv('data\\heart_disease_data.csv')"
   ]
  },
  {
   "cell_type": "code",
   "execution_count": 3,
   "metadata": {},
   "outputs": [],
   "source": [
    "data = dataOriginal[pd.notnull(dataOriginal['HeartDisease'])]"
   ]
  },
  {
   "cell_type": "code",
   "execution_count": 4,
   "metadata": {},
   "outputs": [
    {
     "data": {
      "text/plain": [
       "(67500, 19)"
      ]
     },
     "execution_count": 4,
     "metadata": {},
     "output_type": "execute_result"
    }
   ],
   "source": [
    "dataOriginal.shape"
   ]
  },
  {
   "cell_type": "code",
   "execution_count": 5,
   "metadata": {},
   "outputs": [
    {
     "data": {
      "text/plain": [
       "(61874, 19)"
      ]
     },
     "execution_count": 5,
     "metadata": {},
     "output_type": "execute_result"
    }
   ],
   "source": [
    "data.shape"
   ]
  },
  {
   "cell_type": "code",
   "execution_count": 6,
   "metadata": {},
   "outputs": [
    {
     "data": {
      "text/html": [
       "<div>\n",
       "<style scoped>\n",
       "    .dataframe tbody tr th:only-of-type {\n",
       "        vertical-align: middle;\n",
       "    }\n",
       "\n",
       "    .dataframe tbody tr th {\n",
       "        vertical-align: top;\n",
       "    }\n",
       "\n",
       "    .dataframe thead th {\n",
       "        text-align: right;\n",
       "    }\n",
       "</style>\n",
       "<table border=\"1\" class=\"dataframe\">\n",
       "  <thead>\n",
       "    <tr style=\"text-align: right;\">\n",
       "      <th></th>\n",
       "      <th>Index</th>\n",
       "      <th>SleepTime</th>\n",
       "    </tr>\n",
       "  </thead>\n",
       "  <tbody>\n",
       "    <tr>\n",
       "      <th>count</th>\n",
       "      <td>61874.000000</td>\n",
       "      <td>61874.000000</td>\n",
       "    </tr>\n",
       "    <tr>\n",
       "      <th>mean</th>\n",
       "      <td>33783.843779</td>\n",
       "      <td>10.233895</td>\n",
       "    </tr>\n",
       "    <tr>\n",
       "      <th>std</th>\n",
       "      <td>19500.423273</td>\n",
       "      <td>26.096329</td>\n",
       "    </tr>\n",
       "    <tr>\n",
       "      <th>min</th>\n",
       "      <td>0.000000</td>\n",
       "      <td>-20.000000</td>\n",
       "    </tr>\n",
       "    <tr>\n",
       "      <th>25%</th>\n",
       "      <td>16885.250000</td>\n",
       "      <td>6.000000</td>\n",
       "    </tr>\n",
       "    <tr>\n",
       "      <th>50%</th>\n",
       "      <td>33829.500000</td>\n",
       "      <td>7.000000</td>\n",
       "    </tr>\n",
       "    <tr>\n",
       "      <th>75%</th>\n",
       "      <td>50690.750000</td>\n",
       "      <td>8.000000</td>\n",
       "    </tr>\n",
       "    <tr>\n",
       "      <th>max</th>\n",
       "      <td>67499.000000</td>\n",
       "      <td>406.000000</td>\n",
       "    </tr>\n",
       "  </tbody>\n",
       "</table>\n",
       "</div>"
      ],
      "text/plain": [
       "              Index     SleepTime\n",
       "count  61874.000000  61874.000000\n",
       "mean   33783.843779     10.233895\n",
       "std    19500.423273     26.096329\n",
       "min        0.000000    -20.000000\n",
       "25%    16885.250000      6.000000\n",
       "50%    33829.500000      7.000000\n",
       "75%    50690.750000      8.000000\n",
       "max    67499.000000    406.000000"
      ]
     },
     "execution_count": 6,
     "metadata": {},
     "output_type": "execute_result"
    }
   ],
   "source": [
    "data.describe()"
   ]
  },
  {
   "cell_type": "code",
   "execution_count": 7,
   "metadata": {},
   "outputs": [
    {
     "data": {
      "text/html": [
       "<div>\n",
       "<style scoped>\n",
       "    .dataframe tbody tr th:only-of-type {\n",
       "        vertical-align: middle;\n",
       "    }\n",
       "\n",
       "    .dataframe tbody tr th {\n",
       "        vertical-align: top;\n",
       "    }\n",
       "\n",
       "    .dataframe thead th {\n",
       "        text-align: right;\n",
       "    }\n",
       "</style>\n",
       "<table border=\"1\" class=\"dataframe\">\n",
       "  <thead>\n",
       "    <tr style=\"text-align: right;\">\n",
       "      <th></th>\n",
       "      <th>Index</th>\n",
       "      <th>BMI</th>\n",
       "      <th>Smoking</th>\n",
       "      <th>AlcoholDrinking</th>\n",
       "      <th>Stroke</th>\n",
       "      <th>PhysicalHealth</th>\n",
       "      <th>MentalHealth</th>\n",
       "      <th>DiffWalking</th>\n",
       "      <th>Sex</th>\n",
       "      <th>AgeCategory</th>\n",
       "      <th>Race</th>\n",
       "      <th>Diabetic</th>\n",
       "      <th>PhysicalActivity</th>\n",
       "      <th>GenHealth</th>\n",
       "      <th>SleepTime</th>\n",
       "      <th>Asthma</th>\n",
       "      <th>KidneyDisease</th>\n",
       "      <th>SkinCancer</th>\n",
       "      <th>HeartDisease</th>\n",
       "    </tr>\n",
       "  </thead>\n",
       "  <tbody>\n",
       "    <tr>\n",
       "      <th>0</th>\n",
       "      <td>0</td>\n",
       "      <td>26.5</td>\n",
       "      <td>No</td>\n",
       "      <td>No</td>\n",
       "      <td>No</td>\n",
       "      <td>0.0</td>\n",
       "      <td>0.0</td>\n",
       "      <td>No</td>\n",
       "      <td>Male</td>\n",
       "      <td>64-60</td>\n",
       "      <td>White</td>\n",
       "      <td>No</td>\n",
       "      <td>Yes</td>\n",
       "      <td>Very good</td>\n",
       "      <td>8.0</td>\n",
       "      <td>No</td>\n",
       "      <td>No</td>\n",
       "      <td>No</td>\n",
       "      <td>No</td>\n",
       "    </tr>\n",
       "    <tr>\n",
       "      <th>1</th>\n",
       "      <td>1</td>\n",
       "      <td>28.75</td>\n",
       "      <td>ýNoÚ</td>\n",
       "      <td>No</td>\n",
       "      <td>No</td>\n",
       "      <td>0.0</td>\n",
       "      <td>2.0</td>\n",
       "      <td>No</td>\n",
       "      <td>Male</td>\n",
       "      <td>59-55</td>\n",
       "      <td>White</td>\n",
       "      <td>No</td>\n",
       "      <td>Yes</td>\n",
       "      <td>Very good</td>\n",
       "      <td>7.0</td>\n",
       "      <td>No</td>\n",
       "      <td>No</td>\n",
       "      <td>No</td>\n",
       "      <td>No</td>\n",
       "    </tr>\n",
       "    <tr>\n",
       "      <th>2</th>\n",
       "      <td>2</td>\n",
       "      <td>19.9</td>\n",
       "      <td>Yes</td>\n",
       "      <td>No</td>\n",
       "      <td>No</td>\n",
       "      <td>0.0</td>\n",
       "      <td>1.0</td>\n",
       "      <td>No</td>\n",
       "      <td>Male</td>\n",
       "      <td>39-35</td>\n",
       "      <td>White</td>\n",
       "      <td>No</td>\n",
       "      <td>Yes</td>\n",
       "      <td>Good</td>\n",
       "      <td>7.0</td>\n",
       "      <td>No</td>\n",
       "      <td>No</td>\n",
       "      <td>No</td>\n",
       "      <td>No</td>\n",
       "    </tr>\n",
       "    <tr>\n",
       "      <th>3</th>\n",
       "      <td>3</td>\n",
       "      <td>28.06</td>\n",
       "      <td>No</td>\n",
       "      <td>No</td>\n",
       "      <td>No</td>\n",
       "      <td>1.0</td>\n",
       "      <td>1.0</td>\n",
       "      <td>No</td>\n",
       "      <td>Female</td>\n",
       "      <td>69-65</td>\n",
       "      <td>White</td>\n",
       "      <td>Yes</td>\n",
       "      <td>Yes</td>\n",
       "      <td>Good</td>\n",
       "      <td>8.0</td>\n",
       "      <td>No</td>\n",
       "      <td>No</td>\n",
       "      <td>No</td>\n",
       "      <td>£NoÇ</td>\n",
       "    </tr>\n",
       "    <tr>\n",
       "      <th>4</th>\n",
       "      <td>4</td>\n",
       "      <td>29.29</td>\n",
       "      <td>Yes</td>\n",
       "      <td>No</td>\n",
       "      <td>No</td>\n",
       "      <td>0.0</td>\n",
       "      <td>1.0</td>\n",
       "      <td>No</td>\n",
       "      <td>Female</td>\n",
       "      <td>74-70</td>\n",
       "      <td>White</td>\n",
       "      <td>No</td>\n",
       "      <td>Yes</td>\n",
       "      <td>Very good</td>\n",
       "      <td>7.0</td>\n",
       "      <td>Yes</td>\n",
       "      <td>No</td>\n",
       "      <td>No</td>\n",
       "      <td>No</td>\n",
       "    </tr>\n",
       "  </tbody>\n",
       "</table>\n",
       "</div>"
      ],
      "text/plain": [
       "   Index    BMI Smoking AlcoholDrinking Stroke PhysicalHealth MentalHealth  \\\n",
       "0      0   26.5      No              No     No            0.0          0.0   \n",
       "1      1  28.75    ýNoÚ              No     No            0.0          2.0   \n",
       "2      2   19.9     Yes              No     No            0.0          1.0   \n",
       "3      3  28.06      No              No     No            1.0          1.0   \n",
       "4      4  29.29     Yes              No     No            0.0          1.0   \n",
       "\n",
       "  DiffWalking     Sex AgeCategory   Race Diabetic PhysicalActivity  GenHealth  \\\n",
       "0          No    Male       64-60  White       No              Yes  Very good   \n",
       "1          No    Male       59-55  White       No              Yes  Very good   \n",
       "2          No    Male       39-35  White       No              Yes       Good   \n",
       "3          No  Female       69-65  White      Yes              Yes       Good   \n",
       "4          No  Female       74-70  White       No              Yes  Very good   \n",
       "\n",
       "   SleepTime Asthma KidneyDisease SkinCancer HeartDisease  \n",
       "0        8.0     No            No         No           No  \n",
       "1        7.0     No            No         No           No  \n",
       "2        7.0     No            No         No           No  \n",
       "3        8.0     No            No         No         £NoÇ  \n",
       "4        7.0    Yes            No         No           No  "
      ]
     },
     "execution_count": 7,
     "metadata": {},
     "output_type": "execute_result"
    }
   ],
   "source": [
    "data.head()"
   ]
  },
  {
   "cell_type": "code",
   "execution_count": 8,
   "metadata": {},
   "outputs": [
    {
     "data": {
      "text/plain": [
       "Index                 int64\n",
       "BMI                  object\n",
       "Smoking              object\n",
       "AlcoholDrinking      object\n",
       "Stroke               object\n",
       "PhysicalHealth       object\n",
       "MentalHealth         object\n",
       "DiffWalking          object\n",
       "Sex                  object\n",
       "AgeCategory          object\n",
       "Race                 object\n",
       "Diabetic             object\n",
       "PhysicalActivity     object\n",
       "GenHealth            object\n",
       "SleepTime           float64\n",
       "Asthma               object\n",
       "KidneyDisease        object\n",
       "SkinCancer           object\n",
       "HeartDisease         object\n",
       "dtype: object"
      ]
     },
     "execution_count": 8,
     "metadata": {},
     "output_type": "execute_result"
    }
   ],
   "source": [
    "data.dtypes"
   ]
  },
  {
   "cell_type": "code",
   "execution_count": 9,
   "metadata": {},
   "outputs": [
    {
     "data": {
      "text/plain": [
       "Index               0.000000\n",
       "BMI                 0.019540\n",
       "Smoking             0.024049\n",
       "AlcoholDrinking     0.000000\n",
       "Stroke              0.023790\n",
       "PhysicalHealth      0.000000\n",
       "MentalHealth        0.000000\n",
       "DiffWalking         0.000000\n",
       "Sex                 0.024210\n",
       "AgeCategory         0.000000\n",
       "Race                0.024291\n",
       "Diabetic            0.024873\n",
       "PhysicalActivity    0.000000\n",
       "GenHealth           0.024194\n",
       "SleepTime           0.000000\n",
       "Asthma              0.000000\n",
       "KidneyDisease       0.000000\n",
       "SkinCancer          0.000000\n",
       "HeartDisease        0.000000\n",
       "dtype: float64"
      ]
     },
     "execution_count": 9,
     "metadata": {},
     "output_type": "execute_result"
    }
   ],
   "source": [
    "data.isnull().mean()"
   ]
  },
  {
   "cell_type": "markdown",
   "metadata": {},
   "source": [
    "<font size=\"5\"> Correción Smoking/Stroke/Heart Disease</font> "
   ]
  },
  {
   "cell_type": "code",
   "execution_count": 10,
   "metadata": {},
   "outputs": [],
   "source": [
    "def clean_yes_no(column):\n",
    "    data[column].fillna(\"Yes\", inplace = True)\n",
    "    data.loc[data[column].str.contains('Yes'), column] = \"Yes\"\n",
    "    data.loc[data[column].str.contains('No'), column] = \"No\"\n",
    "    data.loc[~data[column].str.contains('No'), column] = \"Yes\"\n",
    "    "
   ]
  },
  {
   "cell_type": "code",
   "execution_count": 11,
   "metadata": {},
   "outputs": [
    {
     "name": "stderr",
     "output_type": "stream",
     "text": [
      "C:\\Users\\elpin\\AppData\\Local\\Temp\\ipykernel_13200\\3272468483.py:2: SettingWithCopyWarning: \n",
      "A value is trying to be set on a copy of a slice from a DataFrame\n",
      "\n",
      "See the caveats in the documentation: https://pandas.pydata.org/pandas-docs/stable/user_guide/indexing.html#returning-a-view-versus-a-copy\n",
      "  data[column].fillna(\"Yes\", inplace = True)\n"
     ]
    }
   ],
   "source": [
    "dañadas = ['Smoking', 'Stroke', 'HeartDisease']\n",
    "for col in dañadas:\n",
    "    clean_yes_no(col)"
   ]
  },
  {
   "cell_type": "markdown",
   "metadata": {},
   "source": [
    "HACER ESTO DESPUES DE HACER LAS CORRECIONES DE LOS DATOS"
   ]
  },
  {
   "cell_type": "code",
   "execution_count": 12,
   "metadata": {},
   "outputs": [
    {
     "name": "stdout",
     "output_type": "stream",
     "text": [
      "BMI ['26.5' '28.75' '19.9' ... '22.88' '23.69wj' '243.60000000000002']\n",
      "Smoking ['No' 'Yes']\n",
      "AlcoholDrinking ['No' 'Yes']\n",
      "Stroke ['No' 'Yes']\n",
      "PhysicalHealth ['0.0' '1.0' '14.0' '3.0' '-0.0' '2.0' '5.0' '30.0' '10.0' '693.0' '25.0'\n",
      " '12.0' '20.0' '15.0' '4.0' '0.0umi' '0.0bhru' '21.0' '29.0' '0.0cnu'\n",
      " '448.0' '7.0' '0.0pt' '28.0' '-5.0' '0.0a' '18.0' '13.0' '64.0' '27.0'\n",
      " '-4.0' '6.0' '0.0q' '28.0vz' '156.0' '9.0' '93.0' '16.0' '0.0aob' '3.0so'\n",
      " '0.0tq' '0.0g' '2.0behj' '0.0pyam' '175.0' '0.0vyj' '105.0' '10.0ameh'\n",
      " '8.0' '0.0qjrs' '150.0' '15.0l' '-1.0' '930.0' '4.0zffk' '-2.0' '0.0jror'\n",
      " '26.0' '22.0' '0.0o' '62.0' '0.0vy' '1020.0' '28.0m' '2.0lga' '114.0'\n",
      " '-14.0' '0.0asel' '120.0' '0.0z' '465.0' '3.0i' '0.0ytgc' '19.0'\n",
      " '0.0qsih' '0.0se' '0.0kirk' '24.0' '546.0' '17.0' '8.0j' '0.0cmj'\n",
      " '1170.0' '-30.0' '0.0lytd' '5.0q' '0.0frq' '0.0j' '11.0' '0.0vguk'\n",
      " '0.0phzv' '0.0pi' '0.0kldf' '23.0' '0.0ez' '0.0v' '0.0ar' '34.0' '0.0pqz'\n",
      " '-3.0' '2.0ppod' '0.0siw' '-12.0' '0.0qsud' '-21.0' '-22.0' '10.0d'\n",
      " '0.0n' '217.0' '0.0gkq' '0.0woel' '15.0ju' '960.0' '0.0onow' '0.0lqwa'\n",
      " '210.0' '0.0awq' '0.0yoon' '495.0' '0.0zeqp' '0.0push' '0.0me' '900.0'\n",
      " '0.0xuh' '300.0' '0.0u' '532.0' '0.0bz' '0.0zjz' '4.0vrj' '0.0li' '0.0t'\n",
      " '777.0' '0.0asmv' '2.0zmks' '0.0do' '2.0y' '0.0zwig' '66.0' '3.0rd'\n",
      " '0.0qybg' '0.0itsd' '0.0hd' '102.0' '0.0lt' '0.0iwde' '0.0w' '-15.0'\n",
      " '90.0' '0.0c' '2.0m' '10.0tpb' '0.0pknt' '0.0hx' '30.0hlql' '-10.0'\n",
      " '1073.0' '0.0qmn' '0.0qkhg' '20.0inli' '0.0ndv' '0.0vxq' '31.0' '0.0ux'\n",
      " '6.0g' '0.0lnt' '231.0' '0.0hxx' '0.0rgzv' '9.0u' '0.0s' '0.0hkg'\n",
      " '0.0oqcw' '0.0y' '0.0d' '30.0pej' '0.0crf' '3.0cwmw' '0.0rhu' '1080.0'\n",
      " '0.0dp' '22.0uo' '3.0xwr' '0.0cly' '0.0yji' '0.0sp' '0.0nng' '2.0p'\n",
      " '132.0' '420.0' '0.0m' '2.0h' '-7.0' '0.0x' '0.0vej' '0.0yux' '0.0cnb'\n",
      " '0.0liqd' '0.0xwre' '-20.0' '0.0jhs' '0.0xuim' '0.0aq' '0.0nbvd' '0.0itw'\n",
      " '0.0uoo' '1140.0' '78.0' '0.0kmpl' '0.0bkqa' '165.0' '0.0nhr' '0.0xrh'\n",
      " '0.0i' '0.0fxr' '0.0mbf' '30.0otd' '0.0lwg' '30.0ei' '0.0wrbu' '185.0'\n",
      " '0.0xu' '990.0' '1.0qi' '7.0zw' '8.0mswy' '0.0yomb' '0.0xsxq' '0.0fwbs'\n",
      " '28.0bbpz' '25.0qyyp' '60.0' '0.0phbl' '0.0fsg' '190.0' '0.0welr' '0.0l'\n",
      " '-6.0' '160.0' '108.0' '0.0ezmg' '0.0xnm' '0.0yunw' '2.0xr' '1.0d'\n",
      " '0.0bta' '15.0kvn' '0.0vf' '0.0cfyp' '0.0dtkb' '68.0' '30.0jit' '0.0wbl'\n",
      " '0.0zbs' '12.0ieyt' '3.0bshn' '0.0edlq' '1.0lo' '0.0hs' '0.0ls' '0.0eexs'\n",
      " '2.0b' '0.0qxi' '0.0nsi' '30.0asn' '1.0eb' '33.0' '30.0ff' '10.0ih'\n",
      " '2.0u' '15.0wb' '0.0b' '0.0hvrc' '0.0zt' '3.0re' '540.0' '124.0'\n",
      " '0.0olox' '20.0qawl' '600.0' '180.0' '30.0hfk' '850.0' '0.0ras' '0.0hli'\n",
      " '3.0edx' '750.0' '0.0vkb' '0.0k' '1.0tay' '14.0porb' '259.0' '10.0j'\n",
      " '360.0' '25.0hj' '0.0qv' '30.0huqk' '0.0jdj' '2.0tw' '0.0rlwf' '0.0kx'\n",
      " '0.0zboe' '5.0hv' '0.0e' '0.0xpa' '155.0' '30.0so' '0.0hy' '0.0lwkt'\n",
      " '0.0ik' '4.0o' '0.0f' '0.0anfu' '0.0hcq' '0.0ysk' '20.0uekb' '0.0pkoe'\n",
      " '3.0lcx' '0.0roed' '0.0jygz' '0.0fgfq' '0.0safd' '0.0jiw' '96.0' '4.0vi'\n",
      " '18.0ef' '30.0e' '0.0fi' '0.0ovr' '0.0au' '1.0tzke' '7.0t' '-9.0' '266.0'\n",
      " '30.0wffi' '0.0h' '4.0dxj' '10.0l' '0.0rb' '0.0defs' '3.0u' '0.0lut'\n",
      " '0.0bjqw' '1050.0' '0.0qpv' '234.0' '0.0iy' '0.0fxxh' '0.0uwf' '30.0m'\n",
      " '3.0l' '0.0ll' '28.0xfx' '3.0op' '0.0jsi' '30.0tnyv' '0.0ash' '170.0'\n",
      " '14.0qhh' '30.0tqbd' '0.0lc' '0.0lke' '0.0hzjc' '0.0gzp' '117.0' '5.0zq'\n",
      " '0.0wi' '0.0ghpw' '1.0qjbx' '272.0' '0.0wo' '0.0ty' '0.0pid' '0.0skp'\n",
      " '2.0i' '0.0iqoj' '0.0umhj' '3.0ugm' '0.0fhg' '240.0' '980.0' '30.0r'\n",
      " '740.0' '330.0' '4.0zc' '14.0lxtx' '0.0ehgb' '0.0pvnw' '0.0ta' '0.0od'\n",
      " '10.0yah' '2.0x' '0.0gnu' '4.0xvpd' '30.0y' '0.0gc' '3.0d' '15.0m'\n",
      " '21.0ymy' '0.0dmia' '-25.0' '0.0cb' '72.0' '30.0zpz' '15.0plez' '76.0'\n",
      " '5.0dmz' '1.0akj' '2.0vfel' '1.0eqvj' '0.0qd' '0.0rubq' '0.0ftrg'\n",
      " '1.0cpo' '0.0hpcr' '0.0gzik' '30.0ni' '1.0osbu' '1.0ku' '1.0o' '10.0zlp'\n",
      " '4.0cxl' '3.0nwm' '0.0vtnp' '144.0' '10.0ing' '340.0' '0.0zq' '0.0nmj'\n",
      " '434.0' '0.0zas' '0.0ouf' '30.0nas' '15.0wi' '74.0' '0.0ohlk' '2.0j'\n",
      " '0.0dm' '30.0b' '0.0jhqc' '0.0ms' '20.0kxr' '0.0wwi' '0.0cg' '7.0uyce'\n",
      " '0.0fdsz' '0.0ddq' '0.0brq' '30.0hgvp' '30.0bwt' '37.0' '0.0oew' '1.0c'\n",
      " '0.0snmr' '0.0dsk' '0.0zrch' '0.0mfhw' '0.0kvaw' '0.0goz' '248.0' '0.0r'\n",
      " '0.0fy' '0.0qtxf' '111.0' '0.0mx' '0.0tby' '0.0xs' '0.0wzyt' '0.0xr'\n",
      " '0.0ekq' '0.0uyq' '0.0prc' '0.0nw' '0.0vtj' '0.0qkmt' '0.0kc' '0.0rzio'\n",
      " '186.0' '3.0yneh' '0.0vte' '30.0xal' '-8.0' '10.0r' '0.0uiy' '0.0agbs'\n",
      " '20.0yxgu' '0.0ys' '0.0up' '6.0vxbd' '2.0ngzn' '620.0' '2.0jnqs'\n",
      " '0.0euxb' '0.0qc' '0.0ucpl' '555.0' '0.0mkgx' '4.0a' '30.0c' '0.0zdbi'\n",
      " '0.0as' '238.0' '0.0kq' '0.0pn' '30.0nnxb' '0.0ryp' '0.0th' '0.0p'\n",
      " '0.0usdx' '0.0xljq' '0.0debk' '32.0' '-26.0' '38.0' '0.0dmo' '5.0epw'\n",
      " '39.0' '0.0vru' '15.0w' '0.0ldt' '30.0d' '0.0xbst' '0.0ec' '5.0opa'\n",
      " '0.0puei' '0.0oun' '30.0rno' '-28.0' '0.0oytn' '0.0uj' '0.0ug' '0.0upa'\n",
      " '0.0nz' '0.0ana' '0.0er' '0.0eh' '0.0lj' '2.0ckq' '0.0ratf' '30.0dod'\n",
      " '273.0' '4.0fore' '0.0na' '0.0gpfz' '0.0mquq' '0.0vmh' '3.0y' '30.0zvm'\n",
      " '4.0gs' '224.0' '0.0fv' '0.0xby' '1.0bt' '1110.0' '0.0dxhq' '0.0jy'\n",
      " '0.0xzd' '21.0i' '5.0t' '0.0dez' '10.0urql' '0.0rmae' '21.0a' '0.0il'\n",
      " '7.0wtum' '3.0q' '0.0neui' '0.0nbd' '0.0hai' '0.0vtw' '0.0dfp' '0.0kpsm'\n",
      " '30.0zgzh' '35.0' '3.0ng' '0.0nr' '0.0hdc' '-29.0' '1.0y' '0.0fm' '0.0ue'\n",
      " '0.0zacw' '775.0' '30.0lv' '0.0va' '30.0uky' '0.0lsot' '1064.0' '0.0al'\n",
      " '2.0dry' '2.0eii' '0.0mfyk' '450.0' '304.0' '0.0jwhs' '0.0qx' '0.0wfqk'\n",
      " '21.0cb' '0.0mrcq' '0.0lf' '0.0ylwp' '720.0' '0.0dcaw' '15.0irzh'\n",
      " '2.0xjd' '525.0' '0.0tu' '195.0' '0.0zi' '0.0dtwl' '0.0zhz' '0.0ebu'\n",
      " '0.0bga' '0.0lmn' '1.0x' '20.0ttdb' '0.0sten' '0.0tw' '10.0w' '36.0'\n",
      " '0.0vew' '476.0' '0.0uuvt' '0.0wzmv' '7.0f' '0.0kqd' '0.0hda' '0.0vqre'\n",
      " '0.0lwaq' '0.0vfc' '2.0nm' '0.0ysb' '4.0alt' '0.0gkhr' '5.0k' '20.0y'\n",
      " '0.0ojk' '0.0dkco' '0.0lfu' '0.0gzpq' '510.0' '3.0p' '0.0ac' '20.0x'\n",
      " '0.0uua' '0.0iyfr' '0.0zqi' '10.0wz' '128.0' '0.0kcgi' '0.0grl' '2.0a'\n",
      " '0.0ul' '0.0xnd' '0.0npc' '0.0vyir' '0.0lflz' '0.0vyta' '0.0fzd'\n",
      " '21.0ijq' '0.0ljnk' '30.0bhcz' '0.0kudj' '0.0dt' '0.0ouu' '0.0kcc'\n",
      " '496.0' '10.0jd' '0.0hcw' '2.0jhj' '825.0' '1.0niq' '3.0pzxx' '0.0hm'\n",
      " '1131.0' '12.0yvyo' '1.0bfb' '480.0' '0.0wsk' '0.0xdrw' '0.0oyz' '0.0kcf'\n",
      " '0.0zcwr' '3.0rb' '30.0loyv' '99.0' '0.0toe' '0.0epn' '350.0' '-18.0'\n",
      " '0.0aapy' '0.0ukgc' '585.0' '0.0fccv' '5.0jz' '0.0dpq' '10.0ihh' '21.0y'\n",
      " '0.0nahq' '0.0znl' '0.0rnvh' '0.0kwze' '3.0qkr' '462.0' '0.0xpee'\n",
      " '1.0eop' '7.0bp' '5.0ouuw' '0.0lr' '6.0yh' '0.0nzcm' '0.0zcq' '6.0lp'\n",
      " '0.0tcws' '819.0' '30.0t' '560.0' '0.0vhs' '30.0sldn' '136.0' '0.0gnz'\n",
      " '2.0w' '1.0zjmz' '0.0jl' '4.0edv' '7.0zom' '0.0cq' '0.0iv' '0.0ge'\n",
      " '0.0kjnz' '0.0di' '30.0vov' '0.0sn' '0.0wrp' '0.0tkwv' '570.0' '0.0uzxr'\n",
      " '25.0g' '0.0vq' '782.0' '0.0mo' '0.0kfvr' '0.0kbhz' '7.0sg' '2.0ylb'\n",
      " '0.0jbvz' '0.0paj' '10.0xj' '3.0ezy' '0.0bn' '0.0nwzr' '0.0wezy' '370.0'\n",
      " '0.0gpm' '0.0tmj' '252.0' '0.0fod' '2.0grk' '0.0ija' '0.0hp' '0.0oz'\n",
      " '27.0jwtc' '3.0znif' '0.0hggl' '0.0rje' '0.0qm' '0.0cdki' '-24.0' '3.0a'\n",
      " '0.0hk' '0.0py' '0.0aj' '0.0yz' '0.0mprl' '0.0tje' '30.0ivip' '0.0fgw'\n",
      " '30.0frso' '16.0phh' '760.0' '504.0' '30.0ry' '0.0nh' '0.0ditg' '0.0cfz'\n",
      " '0.0vi' '0.0je' '5.0yg' '14.0sqr' '4.0kic' '15.0j' '70.0' '0.0ecae'\n",
      " '0.0pz' '0.0rqmd' '30.0s' '4.0etxg' '0.0axlv' '0.0ldd' '14.0rk'\n",
      " '30.0doub' '0.0yq' '0.0mv' '5.0nu' '0.0lwoy' '0.0kez' '714.0' '0.0vl'\n",
      " '0.0vyh' '30.0nza' '0.0yee' '0.0fjwj' '0.0cfb' '20.0vt' '3.0b' '5.0lsjm'\n",
      " '0.0dg' '30.0h' '0.0pv' '0.0akkt' '3.0h' '0.0rpb' '0.0esl' '0.0gtsm'\n",
      " '2.0qf' '0.0ecu' '12.0b' '1.0b' '0.0fp' '1.0itig' '0.0lb' '4.0d' '14.0h'\n",
      " '2.0cs' '25.0si' '2.0of' '30.0dzs' '0.0zomt' '30.0la' '2.0g' '1.0bx'\n",
      " '0.0yyt' '0.0akg' '0.0el' '-16.0' '0.0kb' '3.0enfg' '3.0vyfa' '0.0an'\n",
      " '0.0txqu' '2.0kk' '15.0yop' '0.0jh' '5.0qy' '0.0hen' '216.0' '0.0nmi'\n",
      " '0.0ozic' '320.0' '0.0rxcl' '0.0uuqy' '0.0ed' '2.0ffsv' '4.0wk' '2.0rgh'\n",
      " '0.0wt' '0.0bue' '0.0zl' '4.0fju' '0.0yqj' '5.0bu' '0.0mvn' '0.0ojx'\n",
      " '10.0cic' '10.0v' '0.0es' '30.0g' '0.0shy' '5.0gpo' '0.0pfu' '0.0lgb'\n",
      " '0.0jezu' '14.0yrsm' '2.0phqd' '3.0ki' '0.0esa' '3.0movt' '2.0li'\n",
      " '15.0xtk' '20.0lwh' '0.0jdp' '0.0wug' '1.0qoxm' '3.0irfn' '7.0hfa'\n",
      " '0.0zy' '0.0viar' '6.0zx' '0.0td' '0.0diq' '4.0qed' '0.0hrcr' '0.0gli'\n",
      " '30.0bkp' '0.0qton' '30.0byze' '0.0hmg' '0.0wvp' '0.0aar' '0.0vrj'\n",
      " '0.0ad' '4.0nuj' '0.0wob' '0.0vk' '0.0gfu' '0.0snun' '0.0wjh' '0.0tohe'\n",
      " '0.0ljkf' '30.0hgjd' '0.0iivz' '0.0cby' '30.0v' '0.0tn' '15.0o' '192.0'\n",
      " '30.0hxa' '0.0kmaa' '0.0ex' '0.0lo' '12.0sk' '0.0bmj' '0.0rk' '25.0nfa'\n",
      " '975.0' '432.0' '14.0nn' '0.0uvuw' '14.0xbwi' '0.0on' '4.0ubxj' '5.0s'\n",
      " '5.0kupt' '20.0vkni' '0.0yw' '0.0ir' '0.0gd' '14.0j' '310.0' '2.0f'\n",
      " '15.0dp' '20.0kc' '0.0ka' '0.0ep' '2.0n' '0.0yt' '0.0pd' '0.0ij' '0.0ni'\n",
      " '4.0lk' '30.0gpqe' '0.0bunq' '0.0hjk' '0.0ipjk' '0.0sjg' '2.0flkz'\n",
      " '0.0yu' '0.0vqlw' '0.0zgm' '1.0hci']\n",
      "MentalHealth ['0.0' '2.0' '1.0' ... '0.0mksv' '2.0oe' '0.0tcf']\n",
      "DiffWalking ['No' 'Yes']\n",
      "Sex ['Male' 'Female' nan ... 'cil' 'mevu' 'yh']\n",
      "AgeCategory ['64-60' '59-55' '39-35' '69-65' '74-70' '29-25' '49-45' '44-40' '34-30'\n",
      " '79-75' '24-18' '54-50' 'or older 80']\n",
      "Race ['White' 'Other' nan ... '↺Asian§' 'rbd' 'uiyq']\n",
      "Diabetic ['No' 'Yes' 'No, borderline diabetes' nan 'tn' '¾No¾' 'msk' 'uctu' '↺Noþ'\n",
      " 'Yes (during pregnancy)' 'oid' '↺NoÓ' '§Noþ' 'lh' 'ßNoÚ' 'v' '©No©' 'bd'\n",
      " 'ØNoý' 'tqnu' '↺No©' 'i' 'ÚYesÚ' 'þNoµ' 'ÓNo©' 'ÓNoµ' '↺No§' 'þNoý' 'eaa'\n",
      " 'oxx' 'iy' 'cf' '©Yes (during pregnancy)↺' 'ßYes (during pregnancy)§'\n",
      " 'mwvh' 'xn' '↺Noµ' 'ØNo↺' 'ÚNoØ' 'µYes (during pregnancy)Ó' 'ÓNoÚ' 'ÓNoØ'\n",
      " 'ÓYesý' 'ÚYes¯' '§No§' 'µNo↺' 'ÚNoý' 'sw' 'µNoý' 'a' 'µNoµ' 'ýYes§' 'hp'\n",
      " 'ojcn' 'lfz' 'qg' 'ßYesÓ' 'þYes (during pregnancy)©' '¯NoÚ' 'my' 'ÚNoÓ'\n",
      " 'j' 'cwk' 'hqb' 'pf' '¯NoØ' 'bqw' 'µNoþ' 'sj' 'yfp' '↺NoØ' 'scc' 'p' 'zq'\n",
      " 'fya' 'ØYes (during pregnancy)§' 'ßNoØ' '¯No, borderline diabetes©'\n",
      " 'µNo§' 'yd' '¾Yes¾' 'þNo¾' 'ØNoß' '©Yesß' 'ßNo¾' 'ÚNo§' 'nvd' 'roo' 'tw'\n",
      " '¾No↺' 'c' 'lu' 'ÓNo¾' 'get' '↺No↺' '©Noß' '§NoÚ' 'ØYesß' 'f' 'b' 'ØNoÓ'\n",
      " 'ÚNo¯' '©NoØ' '§NoØ' 'þNo©' 'µNoÚ' 'yylo' 'h' 'ýNo¾' 'ÚNoß' '¯No©' 'ÚNoþ'\n",
      " 'icc' 'l' 'ÓYesß' 'x' 'poll' 'ØYes¯' 'qy' 'þNo¯' '¾NoØ' 'µNo©' 'ÓNoý'\n",
      " '¾Yes©' 'ØNo§' 'z' 'zit' '¾Yes¯' 'þYes↺' '¾Yes§' '¾YesØ' 'qj' 'vazl'\n",
      " '¾Noý' 'ÚYesµ' 'tnjw' 'd' 'ýNo©' 'cha' 'ýNoý' 'yo' 'oyf' '¾No¯' '¾NoÚ'\n",
      " '¾NoÓ' '§YesØ' 'vj' 'rgo' 'ÓNoß' 'mke' 'lpo' 'qqts' 'gm' 'w' 'ýYesÓ'\n",
      " '¯Yes↺' 'fe' 'ýNoß' 'r' '§Noµ' 'ýNo↺' 'udoo' 'dpow' 'ÓYes§' '↺Yesý'\n",
      " 'qzob' 'cebv' 'µYesØ' 'mbm' 'fy' 'ÓNo§' 'ýNoÚ' 'kz' 'ßYes¯' 'sjhm' 'mfp'\n",
      " 'ÚNo¾' 'hkuo' '¯No↺' 'ßNoµ' 'µYesÓ' 'yrbi' 'g' '¾Noþ' 'ug' 'ÚNoÚ' '©No↺'\n",
      " 'wpga' 'unzn' '§Noß' '§No¯' 'ycfi' 'jkr' 'hnm' 'xnwv' 'ýNoþ' 'ýNo§'\n",
      " 'ßNoþ' 'vse' '©NoÓ' 'ÓNo¯' 'ÚNo©' 'ýYes (during pregnancy)¾' 's' 'cshh'\n",
      " 'ÚNo, borderline diabetes¯' 'ßNoý' 'aoo' 'rdqc' 'ýNo¯' '¾Noµ' 'ti' 'o'\n",
      " 'tzpp' 'yk' 'q' 'ßNoß' 'lny' '↺Noß' 'dtd' '©No¾' 'pvkm' 'ÓNoþ' 'mz'\n",
      " '©Noý' 'ßNo¯' '¯No¯' 'þYesß' 'awdv' '¯No§' '¯Yesß' 'ffw' 'ØNo©' 'ÚNo↺'\n",
      " 'awo' 'n' 'twxf' '¾Yesß' 'yxz' 'þNoØ' 'gwc' 'µNo¾'\n",
      " 'ýYes (during pregnancy)Ó' 'rp' 'qa' '§No, borderline diabetesþ' '¯Noµ'\n",
      " 'gxiv' 'ÚNoµ' 'µYes©' 'alh' 'µNoØ' 'iqf' 'wn' 'yh' 'pyst' 'ÓNo↺' 'of'\n",
      " '¾Yesµ' 'þYesµ' 'ned' 'mg' 'lph' 'bnzy' '§No↺' '¯Noý' 'gv' 'pz' 'ØNo¾'\n",
      " 'ymk' 'fd' 'vece' 'µNoÓ' 't' 'k' 'uq' 'nbm' 'wm'\n",
      " 'ØNo, borderline diabetes©' '§Noý' '¯Noþ' 'lt' 'phrq' '↺No¾' 'cfnq' 'bhi'\n",
      " '§No©' 'e' '©Yes (during pregnancy)ß' 'latp' 'ýNoÓ' 'dm' 'ßNo§' 'gln'\n",
      " 'fphe' 'ea' 'erzc' 'ØNoþ' 'bj' 'ØNoØ' 'sqd' '¾Noß' 'ghvu' 'ßNo↺' 'tso'\n",
      " 'vvrr' '↺Yes©' 'smoi' 'dsr' 'mym' 'ab' 'rn' 'jbtp' '↺Noý' 'nnaz' 'grtq'\n",
      " 'meer' 'aml' 'rb' 'cehi' 'oduu' 'pe' 'y' 'mus' 'kxjm' 'vmuw'\n",
      " '¯No, borderline diabetesÓ' 'ØYesÚ' '↺NoÚ' '¾No, borderline diabetesß'\n",
      " 'il' 'lnit' 'ßNo©' 'ØYes (during pregnancy)¯' 'ØNoµ' 'µNoß' 'vbs' '¾Yesý'\n",
      " 'þNoß' 'µYes§' 'xf' 'utwp' 'cc' '§YesÚ' 'cspd' 'ke' 'cgrk' '©Yes¾' 'ydz'\n",
      " 'mms' 'ÓNoÓ' '¾No§' 'nn' '¯No¾' 'aty' 'lmo' 'vtnh' 'ul' 'sgu' 'ÚYes©'\n",
      " '¯Noß' 'uaa' '©Noþ' 'µYes¯' 'pipr' 'gcdt' 'ysj' 'ýYes¯' 'jm' '©Noµ' 'cgv'\n",
      " 'ili' 'ßYesý' '¯No, borderline diabetesØ' 'u' 'bkg' 'gb' '©No§' 'yp'\n",
      " 'þYes (during pregnancy)¯' 'rjq' 'aqa' '§No¾' 'zl' 'ysu' 'qhi' 'vzop'\n",
      " 'otnf' 'ksfd' 'so' 'fv' 'vwt' 'zegr' 'lywg' 'tt' '↺Yesµ' 'ØYesµ' 'mt'\n",
      " 'soan' 'kqw' 'uek' 'frk' 'ngo' 'ors' 'ykz' 'bne' '§Yesß' 'qtal' 'ØNo¯'\n",
      " '¾No©' 'ae' 'bb' 'vkvz' 'nnt' 'þNo§' 'dxv' 'vzep' '©NoÚ' 'm' '©No¯' 'sx'\n",
      " 'coxe' '§YesÓ' 'dmxc' 'mfdd' 'xds' '¯Yes§' 'ÓYesþ' 'mcjh' 'uo' 'asdg'\n",
      " 'brsn' 'sl' '§NoÓ' 'im' 'tvy' 'bquj' '¯Yes©' 'zdxp' 'ßYes¾' 'zam' 'vrsn'\n",
      " 'þNo↺' '↺Yesß' 'cp' 'iw' 'ÚNo, borderline diabetes↺' 'ouk' 'npcj' 'tpa'\n",
      " 'buux' 'zo' 'cwh' 'pfc' 'hpj' 'gxwj' 'jnmz' 'jxxb' 'oek' 'ima' 'µYes¾'\n",
      " 'xk' 'nkq' 'ep' 'ØNoÚ' 'tg' '↺Yes§' 'mhlx' 'oe' 'efjn' 'sqb' 'ls' 'ýYesþ'\n",
      " 'kmt' 'ßYesß' 'mkso' 'ÓYesÓ' 'qjhp' 'uj' 'þNo, borderline diabetes¯'\n",
      " 'xsv' 'ui' 'eykz' 'ßYes©' 'ii' 'fra' 'jw' 'uja' 'ewc' 'xo' 'fltx' 'ýNoµ'\n",
      " 'klk' 'em' 'þYesÚ' 'þYesþ' 'ra' 'ivfc' 'zbs' 'owgn' 'pek' 'zyw' 'jkny'\n",
      " 'rrpy' 'vak' 'pta' 'nq' 'dt' 'zmg' '¯No, borderline diabetes↺' 'sf'\n",
      " 'kvvi' 'pux' '¯NoÓ' 'rl' 'zjn' 'uxn' 'upy' 'ue' 'qwkh' 'xss' 'hebi' 'yxd'\n",
      " 'za' 'xfp' 'us' '©Yes§' 'lpd' 'irej' 'svj' 'dj' 'pyqv' 'ÚYesß'\n",
      " '¾No, borderline diabetes¯' 'fu' 'gtc' 'rizf' 'uxgb' 'uk' 'fcld' 'wav'\n",
      " 'ol' 'xz' 'hqnr' 'rdjh' 'qak' '¾No, borderline diabetes§' 'ib' 'mjk'\n",
      " 'pyle' 'xvm' 'ihjr' '§Yesý' 'aw' 'ýYes©' 'gx' 'ýNoØ' 'ziop' 'lurh' 'gkes'\n",
      " 'ezz' 'ec' 'az' 'hiln' 'ego' 'uz' 'll' 'bo' 'oae' 'tf' 'wsrr' 'fc' 'uwq'\n",
      " 'boqy' 'co' '§Yesþ' 'alom' 'zxf' 'ygaw' 'ldg' 'caq' 'gce' 'at' 'dfco'\n",
      " 'jqk' 'om' '©Yesµ' 'µYes (during pregnancy)ý' 'uu' 'qpq'\n",
      " 'ßNo, borderline diabetes§' 'yftr' 'zzop' 'jke' 'ecc' 'mr' 'rrmf' 'foj'\n",
      " 'ag' 'uw' 'tu' 'xnvp' 'yiz' 'ßNoÓ' 'hhvu' 'njv' 'rve' 'wxmc' 'lrob'\n",
      " '↺Yes¾' 'hb' 'up' 'he' 'rd' 'cj' 're' 'qzf' '§Yesµ' 'iei' 'uzy' 'zu'\n",
      " 'ehq' 'vmhr' 'oi' 'yw' 'cr' 'wuh' 'npwm' 'fm' '¯Yesý' 'kfk' 'ux' 'iknz'\n",
      " 'xes' 'yfg' 'yorx' 'njd' 'qnvt' 'qjx' 'rnd' 'hymo' 'zd' 'voo' 'du' 'bshw'\n",
      " 'µYesµ' 'aqh' 'ØYes§' 'wqr' 'zyy' 'epyp' 'dyud' 'vktu' 'uey' 'hfpk'\n",
      " '↺Yesþ' 'cjy' '↺Yes↺' 'ma' 'nd' 'µYesþ' 'ýYes↺' 'ua' 'dhfz' 'yxn' 'frh'\n",
      " 'ynh' '¯YesØ' 'fwl' 'ps' 'fbn' 'xmdy' 'kern' 'þNoþ' 'xbuo' 'wvoq' 'suz'\n",
      " 'ahaq' 'tdeh' 'tm' 'aavk' 'htvy' 'dum' 'aa' 'hin' 'gpwg' 'di' 'av' 'akxp'\n",
      " 'ýYesØ' '↺YesØ' 'iwqg' 'ekqr' 'cez' 'db' '§Yes↺' 'nfdt' 'scgn' 'kir'\n",
      " 'kgta' 'µYesý' 'nwf' 'kpdr' 'ÚYes¾' '↺No¯' 'tuca'\n",
      " 'ýNo, borderline diabetes§' 'iqt' 'wch' 'abno' 'wdyq' 'ss' 'lpsb' 'ÓYesÚ'\n",
      " 'eu' 'kg' 'hhnj' '©Yes↺' 'dq' '§No, borderline diabetesØ' 'wz' 'bllj'\n",
      " 'cm' 'wpyd' 'fo' 'ohn' 'ØYesÓ' 'ÓYes¯' 'xu' 'pk' 'sh' 'vyww' 'cb' 'iybt'\n",
      " 'uuvg' 'þYesý' 'ybm' 'hfq' 'ydt' 'idv' 'ki' 'zb' '↺YesÓ' 'nt' 'aq' 'jvb'\n",
      " 'inm' 'crti' 'ndw' 'hf' 'bzhe' 'ze' 'ßYesÚ' 'wqqk' 'vg' 'yb' 'nqy'\n",
      " 'ßNo, borderline diabetesß' 'kdv' 'jr' 'vbys' 'kbgl' 'þNoÚ' 'yhs' 'tx'\n",
      " 'aj' 'gyr' 'ndqv' 'nbyj' 'bumc' 'itr' 'zza' 'tq' 'nzx'\n",
      " 'þYes (during pregnancy)ý' 'hvy' 'hfmo' 'mx' 'znrj' 'tozm' 'cnx' 'uvzl'\n",
      " 'µYesß' 'zikc' 'ax' 'iwt' 'mfvw' 'yl' 'pjwd' 'is' 'þYesÓ' 'sjoz' 'cfab'\n",
      " 'nay' 'vot' 'ykt' 'qkrb' 'okyh' 'yby' 'tou' 'np' 'uy' 'dn' 'dov' 'qmhd'\n",
      " 'ýYes¾' 'wu' 'wwr' 'zvk' 'jmgg' 'mcpt' 'ej' 'xatf' 'rkbs' 'xfg' 'xli'\n",
      " 'ylxt' 'ytko' 'ks' 'lioz' 'suj' 'ygq' 'zg' 'mcb' 'ck' 'ÓYesØ' 'iu' 'yu'\n",
      " 'µNo¯' 'ßYes↺' 'µYes↺' 'dnf' 'fbm' 'ßNo, borderline diabetes↺' 'vpl' 'sa'\n",
      " 'lm' '¾Yes↺' 'vt' 'qs' 'hdrt' 'sjsa' 'wncy' 'hbfi' 'eww' 'igza' 'bpb'\n",
      " 'tbbc' 'qevg' 'ÚYes↺' 'mkh' 'lhum' 'vs' 'puum' 'ßYesþ' 'lr' 'cevv' 'afgo'\n",
      " 'lk' 'vqy' 'zrwt' 'evf' 'nv' 'ldk' 'dfz' '¯Yes¾' 'azt' 'aqho' 'crgh' 'qz'\n",
      " '§Yes©' 'wi' 'fnhk' 'zhy' 'µNo, borderline diabetes©' 'qx' 'ØYes©' 'eezm'\n",
      " 'noqi' 'cdae' 'eme' 'xnth' 'eaw' 'brd' 'jkaq' 'jtz' 'no' 'xivf' 'ij'\n",
      " 'gxov' 'qqjy' 'ob' 'juw' 'tle' 'lknp' 'mucy' 'vz' 'hdpn' 'cgnd' 'ef'\n",
      " '↺YesÚ' 'ovgm' 'wfxv' 'zhf' 'gr' 'hd' '↺Yes (during pregnancy)¾' 'oso'\n",
      " 'fb' 'zcyy' 'oj' 'rz' 'hozj' 'va' 'uihi' 'vnxu' 'yka' 'gevq' 'þYesØ'\n",
      " 'mpqg' 'kkb' 'ica' 'ýNo, borderline diabetes↺' 'ØYes¾' 'iihj' 'noz'\n",
      " 'ØNo, borderline diabetesß' 'gi' 'jdgi' 'þNoÓ' 'gto' 'kcvi' 'xjct' 'rlj'\n",
      " 'oknj' 'rutn' 'jdw' 'nht' 'je' 'ugwe' 'µNo, borderline diabetesµ' 'iuf'\n",
      " 'xyj' 'kcb' 'fokw' 'sc' 'fi' 'dozo' 'gdr' 'eyg'\n",
      " '¾Yes (during pregnancy)Ó' 'anli' 'alz' 'fgr' 'iuy' 'ysx' 'xfmf'\n",
      " '§Yes (during pregnancy)ý' 'xgg' 'mmdi' 'ujkg' 'nrlf' 'ebse' 'mmb' 'ly'\n",
      " 'kx' 'btou' 'ubb' 'bax' 'xt' 'ewwi' 'eh' 'bddw' 'rkyp' 'ytt' 'ÓYes¾'\n",
      " '¾No, borderline diabetesµ' 'hagt' 'coe' 'pu' 'þNo, borderline diabetesÚ'\n",
      " 'oz' 'cis' 'hghi' 'ins' 'aoe' 'jtdi' 'ßYes (during pregnancy)¾' 'hwd'\n",
      " 'ldwn' 'ft' 'zt' 'yn' 'mlek']\n",
      "PhysicalActivity ['Yes' 'No']\n",
      "GenHealth ['Very good' 'Good' nan ... 'fvt' 'hpnm' '↺Fairß']\n",
      "Asthma ['No' 'Yes']\n",
      "KidneyDisease ['No' 'Yes']\n",
      "SkinCancer ['No' 'Yes']\n",
      "HeartDisease ['No' 'Yes']\n"
     ]
    }
   ],
   "source": [
    "for col in data.columns:\n",
    "    if data[col].dtype == 'object':\n",
    "        print(col, data[col].unique())"
   ]
  },
  {
   "cell_type": "markdown",
   "metadata": {},
   "source": [
    "<font size=\"5\"> Correción Sexo</font> "
   ]
  },
  {
   "cell_type": "code",
   "execution_count": 13,
   "metadata": {},
   "outputs": [
    {
     "data": {
      "text/plain": [
       "Sex\n",
       "Female    30618\n",
       "Male      27534\n",
       "a            12\n",
       "ad            1\n",
       "ae            2\n",
       "          ...  \n",
       "↺MaleÚ        3\n",
       "↺Maleß        5\n",
       "↺Maleý        1\n",
       "↺Maleþ        6\n",
       "↺Male↺        3\n",
       "Name: Index, Length: 1051, dtype: int64"
      ]
     },
     "execution_count": 13,
     "metadata": {},
     "output_type": "execute_result"
    }
   ],
   "source": [
    "data.groupby('Sex')['Index'].nunique()"
   ]
  },
  {
   "cell_type": "code",
   "execution_count": 14,
   "metadata": {},
   "outputs": [
    {
     "name": "stderr",
     "output_type": "stream",
     "text": [
      "C:\\Users\\elpin\\AppData\\Local\\Temp\\ipykernel_13200\\1742999555.py:1: SettingWithCopyWarning: \n",
      "A value is trying to be set on a copy of a slice from a DataFrame\n",
      "\n",
      "See the caveats in the documentation: https://pandas.pydata.org/pandas-docs/stable/user_guide/indexing.html#returning-a-view-versus-a-copy\n",
      "  data[\"Sex\"].fillna(\"Other\", inplace = True)\n"
     ]
    }
   ],
   "source": [
    "data[\"Sex\"].fillna(\"Other\", inplace = True)\n",
    "data.loc[data[\"Sex\"].str.contains('Male'), \"Sex\"] = \"Male\"\n",
    "data.loc[data[\"Sex\"].str.contains('Female'), \"Sex\"] = \"Female\"\n",
    "data.loc[~data[\"Sex\"].str.contains('Male') & ~data[\"Sex\"].str.contains('Female'), \"Sex\"] = \"Other\""
   ]
  },
  {
   "cell_type": "code",
   "execution_count": 15,
   "metadata": {},
   "outputs": [
    {
     "data": {
      "text/plain": [
       "Sex\n",
       "Female    31280\n",
       "Male      28064\n",
       "Other      2530\n",
       "Name: Index, dtype: int64"
      ]
     },
     "execution_count": 15,
     "metadata": {},
     "output_type": "execute_result"
    }
   ],
   "source": [
    "data.groupby('Sex')['Index'].nunique()"
   ]
  },
  {
   "cell_type": "markdown",
   "metadata": {},
   "source": [
    "<font size=\"5\"> Correción Physical/ Mental health</font> "
   ]
  },
  {
   "cell_type": "code",
   "execution_count": 16,
   "metadata": {},
   "outputs": [
    {
     "data": {
      "text/plain": [
       "array(['0.0', '1.0', '14.0', '3.0', '-0.0', '2.0', '5.0', '30.0', '10.0',\n",
       "       '693.0', '25.0', '12.0', '20.0', '15.0', '4.0', '0.0umi',\n",
       "       '0.0bhru', '21.0', '29.0', '0.0cnu', '448.0', '7.0', '0.0pt',\n",
       "       '28.0', '-5.0', '0.0a', '18.0', '13.0', '64.0', '27.0', '-4.0',\n",
       "       '6.0', '0.0q', '28.0vz', '156.0', '9.0', '93.0', '16.0', '0.0aob',\n",
       "       '3.0so', '0.0tq', '0.0g', '2.0behj', '0.0pyam', '175.0', '0.0vyj',\n",
       "       '105.0', '10.0ameh', '8.0', '0.0qjrs', '150.0', '15.0l', '-1.0',\n",
       "       '930.0', '4.0zffk', '-2.0', '0.0jror', '26.0', '22.0', '0.0o',\n",
       "       '62.0', '0.0vy', '1020.0', '28.0m', '2.0lga', '114.0', '-14.0',\n",
       "       '0.0asel', '120.0', '0.0z', '465.0', '3.0i', '0.0ytgc', '19.0',\n",
       "       '0.0qsih', '0.0se', '0.0kirk', '24.0', '546.0', '17.0', '8.0j',\n",
       "       '0.0cmj', '1170.0', '-30.0', '0.0lytd', '5.0q', '0.0frq', '0.0j',\n",
       "       '11.0', '0.0vguk', '0.0phzv', '0.0pi', '0.0kldf', '23.0', '0.0ez',\n",
       "       '0.0v', '0.0ar', '34.0', '0.0pqz', '-3.0', '2.0ppod', '0.0siw',\n",
       "       '-12.0', '0.0qsud', '-21.0', '-22.0', '10.0d', '0.0n', '217.0',\n",
       "       '0.0gkq', '0.0woel', '15.0ju', '960.0', '0.0onow', '0.0lqwa',\n",
       "       '210.0', '0.0awq', '0.0yoon', '495.0', '0.0zeqp', '0.0push',\n",
       "       '0.0me', '900.0', '0.0xuh', '300.0', '0.0u', '532.0', '0.0bz',\n",
       "       '0.0zjz', '4.0vrj', '0.0li', '0.0t', '777.0', '0.0asmv', '2.0zmks',\n",
       "       '0.0do', '2.0y', '0.0zwig', '66.0', '3.0rd', '0.0qybg', '0.0itsd',\n",
       "       '0.0hd', '102.0', '0.0lt', '0.0iwde', '0.0w', '-15.0', '90.0',\n",
       "       '0.0c', '2.0m', '10.0tpb', '0.0pknt', '0.0hx', '30.0hlql', '-10.0',\n",
       "       '1073.0', '0.0qmn', '0.0qkhg', '20.0inli', '0.0ndv', '0.0vxq',\n",
       "       '31.0', '0.0ux', '6.0g', '0.0lnt', '231.0', '0.0hxx', '0.0rgzv',\n",
       "       '9.0u', '0.0s', '0.0hkg', '0.0oqcw', '0.0y', '0.0d', '30.0pej',\n",
       "       '0.0crf', '3.0cwmw', '0.0rhu', '1080.0', '0.0dp', '22.0uo',\n",
       "       '3.0xwr', '0.0cly', '0.0yji', '0.0sp', '0.0nng', '2.0p', '132.0',\n",
       "       '420.0', '0.0m', '2.0h', '-7.0', '0.0x', '0.0vej', '0.0yux',\n",
       "       '0.0cnb', '0.0liqd', '0.0xwre', '-20.0', '0.0jhs', '0.0xuim',\n",
       "       '0.0aq', '0.0nbvd', '0.0itw', '0.0uoo', '1140.0', '78.0',\n",
       "       '0.0kmpl', '0.0bkqa', '165.0', '0.0nhr', '0.0xrh', '0.0i',\n",
       "       '0.0fxr', '0.0mbf', '30.0otd', '0.0lwg', '30.0ei', '0.0wrbu',\n",
       "       '185.0', '0.0xu', '990.0', '1.0qi', '7.0zw', '8.0mswy', '0.0yomb',\n",
       "       '0.0xsxq', '0.0fwbs', '28.0bbpz', '25.0qyyp', '60.0', '0.0phbl',\n",
       "       '0.0fsg', '190.0', '0.0welr', '0.0l', '-6.0', '160.0', '108.0',\n",
       "       '0.0ezmg', '0.0xnm', '0.0yunw', '2.0xr', '1.0d', '0.0bta',\n",
       "       '15.0kvn', '0.0vf', '0.0cfyp', '0.0dtkb', '68.0', '30.0jit',\n",
       "       '0.0wbl', '0.0zbs', '12.0ieyt', '3.0bshn', '0.0edlq', '1.0lo',\n",
       "       '0.0hs', '0.0ls', '0.0eexs', '2.0b', '0.0qxi', '0.0nsi', '30.0asn',\n",
       "       '1.0eb', '33.0', '30.0ff', '10.0ih', '2.0u', '15.0wb', '0.0b',\n",
       "       '0.0hvrc', '0.0zt', '3.0re', '540.0', '124.0', '0.0olox',\n",
       "       '20.0qawl', '600.0', '180.0', '30.0hfk', '850.0', '0.0ras',\n",
       "       '0.0hli', '3.0edx', '750.0', '0.0vkb', '0.0k', '1.0tay',\n",
       "       '14.0porb', '259.0', '10.0j', '360.0', '25.0hj', '0.0qv',\n",
       "       '30.0huqk', '0.0jdj', '2.0tw', '0.0rlwf', '0.0kx', '0.0zboe',\n",
       "       '5.0hv', '0.0e', '0.0xpa', '155.0', '30.0so', '0.0hy', '0.0lwkt',\n",
       "       '0.0ik', '4.0o', '0.0f', '0.0anfu', '0.0hcq', '0.0ysk', '20.0uekb',\n",
       "       '0.0pkoe', '3.0lcx', '0.0roed', '0.0jygz', '0.0fgfq', '0.0safd',\n",
       "       '0.0jiw', '96.0', '4.0vi', '18.0ef', '30.0e', '0.0fi', '0.0ovr',\n",
       "       '0.0au', '1.0tzke', '7.0t', '-9.0', '266.0', '30.0wffi', '0.0h',\n",
       "       '4.0dxj', '10.0l', '0.0rb', '0.0defs', '3.0u', '0.0lut', '0.0bjqw',\n",
       "       '1050.0', '0.0qpv', '234.0', '0.0iy', '0.0fxxh', '0.0uwf', '30.0m',\n",
       "       '3.0l', '0.0ll', '28.0xfx', '3.0op', '0.0jsi', '30.0tnyv',\n",
       "       '0.0ash', '170.0', '14.0qhh', '30.0tqbd', '0.0lc', '0.0lke',\n",
       "       '0.0hzjc', '0.0gzp', '117.0', '5.0zq', '0.0wi', '0.0ghpw',\n",
       "       '1.0qjbx', '272.0', '0.0wo', '0.0ty', '0.0pid', '0.0skp', '2.0i',\n",
       "       '0.0iqoj', '0.0umhj', '3.0ugm', '0.0fhg', '240.0', '980.0',\n",
       "       '30.0r', '740.0', '330.0', '4.0zc', '14.0lxtx', '0.0ehgb',\n",
       "       '0.0pvnw', '0.0ta', '0.0od', '10.0yah', '2.0x', '0.0gnu',\n",
       "       '4.0xvpd', '30.0y', '0.0gc', '3.0d', '15.0m', '21.0ymy', '0.0dmia',\n",
       "       '-25.0', '0.0cb', '72.0', '30.0zpz', '15.0plez', '76.0', '5.0dmz',\n",
       "       '1.0akj', '2.0vfel', '1.0eqvj', '0.0qd', '0.0rubq', '0.0ftrg',\n",
       "       '1.0cpo', '0.0hpcr', '0.0gzik', '30.0ni', '1.0osbu', '1.0ku',\n",
       "       '1.0o', '10.0zlp', '4.0cxl', '3.0nwm', '0.0vtnp', '144.0',\n",
       "       '10.0ing', '340.0', '0.0zq', '0.0nmj', '434.0', '0.0zas', '0.0ouf',\n",
       "       '30.0nas', '15.0wi', '74.0', '0.0ohlk', '2.0j', '0.0dm', '30.0b',\n",
       "       '0.0jhqc', '0.0ms', '20.0kxr', '0.0wwi', '0.0cg', '7.0uyce',\n",
       "       '0.0fdsz', '0.0ddq', '0.0brq', '30.0hgvp', '30.0bwt', '37.0',\n",
       "       '0.0oew', '1.0c', '0.0snmr', '0.0dsk', '0.0zrch', '0.0mfhw',\n",
       "       '0.0kvaw', '0.0goz', '248.0', '0.0r', '0.0fy', '0.0qtxf', '111.0',\n",
       "       '0.0mx', '0.0tby', '0.0xs', '0.0wzyt', '0.0xr', '0.0ekq', '0.0uyq',\n",
       "       '0.0prc', '0.0nw', '0.0vtj', '0.0qkmt', '0.0kc', '0.0rzio',\n",
       "       '186.0', '3.0yneh', '0.0vte', '30.0xal', '-8.0', '10.0r', '0.0uiy',\n",
       "       '0.0agbs', '20.0yxgu', '0.0ys', '0.0up', '6.0vxbd', '2.0ngzn',\n",
       "       '620.0', '2.0jnqs', '0.0euxb', '0.0qc', '0.0ucpl', '555.0',\n",
       "       '0.0mkgx', '4.0a', '30.0c', '0.0zdbi', '0.0as', '238.0', '0.0kq',\n",
       "       '0.0pn', '30.0nnxb', '0.0ryp', '0.0th', '0.0p', '0.0usdx',\n",
       "       '0.0xljq', '0.0debk', '32.0', '-26.0', '38.0', '0.0dmo', '5.0epw',\n",
       "       '39.0', '0.0vru', '15.0w', '0.0ldt', '30.0d', '0.0xbst', '0.0ec',\n",
       "       '5.0opa', '0.0puei', '0.0oun', '30.0rno', '-28.0', '0.0oytn',\n",
       "       '0.0uj', '0.0ug', '0.0upa', '0.0nz', '0.0ana', '0.0er', '0.0eh',\n",
       "       '0.0lj', '2.0ckq', '0.0ratf', '30.0dod', '273.0', '4.0fore',\n",
       "       '0.0na', '0.0gpfz', '0.0mquq', '0.0vmh', '3.0y', '30.0zvm',\n",
       "       '4.0gs', '224.0', '0.0fv', '0.0xby', '1.0bt', '1110.0', '0.0dxhq',\n",
       "       '0.0jy', '0.0xzd', '21.0i', '5.0t', '0.0dez', '10.0urql',\n",
       "       '0.0rmae', '21.0a', '0.0il', '7.0wtum', '3.0q', '0.0neui',\n",
       "       '0.0nbd', '0.0hai', '0.0vtw', '0.0dfp', '0.0kpsm', '30.0zgzh',\n",
       "       '35.0', '3.0ng', '0.0nr', '0.0hdc', '-29.0', '1.0y', '0.0fm',\n",
       "       '0.0ue', '0.0zacw', '775.0', '30.0lv', '0.0va', '30.0uky',\n",
       "       '0.0lsot', '1064.0', '0.0al', '2.0dry', '2.0eii', '0.0mfyk',\n",
       "       '450.0', '304.0', '0.0jwhs', '0.0qx', '0.0wfqk', '21.0cb',\n",
       "       '0.0mrcq', '0.0lf', '0.0ylwp', '720.0', '0.0dcaw', '15.0irzh',\n",
       "       '2.0xjd', '525.0', '0.0tu', '195.0', '0.0zi', '0.0dtwl', '0.0zhz',\n",
       "       '0.0ebu', '0.0bga', '0.0lmn', '1.0x', '20.0ttdb', '0.0sten',\n",
       "       '0.0tw', '10.0w', '36.0', '0.0vew', '476.0', '0.0uuvt', '0.0wzmv',\n",
       "       '7.0f', '0.0kqd', '0.0hda', '0.0vqre', '0.0lwaq', '0.0vfc',\n",
       "       '2.0nm', '0.0ysb', '4.0alt', '0.0gkhr', '5.0k', '20.0y', '0.0ojk',\n",
       "       '0.0dkco', '0.0lfu', '0.0gzpq', '510.0', '3.0p', '0.0ac', '20.0x',\n",
       "       '0.0uua', '0.0iyfr', '0.0zqi', '10.0wz', '128.0', '0.0kcgi',\n",
       "       '0.0grl', '2.0a', '0.0ul', '0.0xnd', '0.0npc', '0.0vyir',\n",
       "       '0.0lflz', '0.0vyta', '0.0fzd', '21.0ijq', '0.0ljnk', '30.0bhcz',\n",
       "       '0.0kudj', '0.0dt', '0.0ouu', '0.0kcc', '496.0', '10.0jd',\n",
       "       '0.0hcw', '2.0jhj', '825.0', '1.0niq', '3.0pzxx', '0.0hm',\n",
       "       '1131.0', '12.0yvyo', '1.0bfb', '480.0', '0.0wsk', '0.0xdrw',\n",
       "       '0.0oyz', '0.0kcf', '0.0zcwr', '3.0rb', '30.0loyv', '99.0',\n",
       "       '0.0toe', '0.0epn', '350.0', '-18.0', '0.0aapy', '0.0ukgc',\n",
       "       '585.0', '0.0fccv', '5.0jz', '0.0dpq', '10.0ihh', '21.0y',\n",
       "       '0.0nahq', '0.0znl', '0.0rnvh', '0.0kwze', '3.0qkr', '462.0',\n",
       "       '0.0xpee', '1.0eop', '7.0bp', '5.0ouuw', '0.0lr', '6.0yh',\n",
       "       '0.0nzcm', '0.0zcq', '6.0lp', '0.0tcws', '819.0', '30.0t', '560.0',\n",
       "       '0.0vhs', '30.0sldn', '136.0', '0.0gnz', '2.0w', '1.0zjmz',\n",
       "       '0.0jl', '4.0edv', '7.0zom', '0.0cq', '0.0iv', '0.0ge', '0.0kjnz',\n",
       "       '0.0di', '30.0vov', '0.0sn', '0.0wrp', '0.0tkwv', '570.0',\n",
       "       '0.0uzxr', '25.0g', '0.0vq', '782.0', '0.0mo', '0.0kfvr',\n",
       "       '0.0kbhz', '7.0sg', '2.0ylb', '0.0jbvz', '0.0paj', '10.0xj',\n",
       "       '3.0ezy', '0.0bn', '0.0nwzr', '0.0wezy', '370.0', '0.0gpm',\n",
       "       '0.0tmj', '252.0', '0.0fod', '2.0grk', '0.0ija', '0.0hp', '0.0oz',\n",
       "       '27.0jwtc', '3.0znif', '0.0hggl', '0.0rje', '0.0qm', '0.0cdki',\n",
       "       '-24.0', '3.0a', '0.0hk', '0.0py', '0.0aj', '0.0yz', '0.0mprl',\n",
       "       '0.0tje', '30.0ivip', '0.0fgw', '30.0frso', '16.0phh', '760.0',\n",
       "       '504.0', '30.0ry', '0.0nh', '0.0ditg', '0.0cfz', '0.0vi', '0.0je',\n",
       "       '5.0yg', '14.0sqr', '4.0kic', '15.0j', '70.0', '0.0ecae', '0.0pz',\n",
       "       '0.0rqmd', '30.0s', '4.0etxg', '0.0axlv', '0.0ldd', '14.0rk',\n",
       "       '30.0doub', '0.0yq', '0.0mv', '5.0nu', '0.0lwoy', '0.0kez',\n",
       "       '714.0', '0.0vl', '0.0vyh', '30.0nza', '0.0yee', '0.0fjwj',\n",
       "       '0.0cfb', '20.0vt', '3.0b', '5.0lsjm', '0.0dg', '30.0h', '0.0pv',\n",
       "       '0.0akkt', '3.0h', '0.0rpb', '0.0esl', '0.0gtsm', '2.0qf',\n",
       "       '0.0ecu', '12.0b', '1.0b', '0.0fp', '1.0itig', '0.0lb', '4.0d',\n",
       "       '14.0h', '2.0cs', '25.0si', '2.0of', '30.0dzs', '0.0zomt',\n",
       "       '30.0la', '2.0g', '1.0bx', '0.0yyt', '0.0akg', '0.0el', '-16.0',\n",
       "       '0.0kb', '3.0enfg', '3.0vyfa', '0.0an', '0.0txqu', '2.0kk',\n",
       "       '15.0yop', '0.0jh', '5.0qy', '0.0hen', '216.0', '0.0nmi',\n",
       "       '0.0ozic', '320.0', '0.0rxcl', '0.0uuqy', '0.0ed', '2.0ffsv',\n",
       "       '4.0wk', '2.0rgh', '0.0wt', '0.0bue', '0.0zl', '4.0fju', '0.0yqj',\n",
       "       '5.0bu', '0.0mvn', '0.0ojx', '10.0cic', '10.0v', '0.0es', '30.0g',\n",
       "       '0.0shy', '5.0gpo', '0.0pfu', '0.0lgb', '0.0jezu', '14.0yrsm',\n",
       "       '2.0phqd', '3.0ki', '0.0esa', '3.0movt', '2.0li', '15.0xtk',\n",
       "       '20.0lwh', '0.0jdp', '0.0wug', '1.0qoxm', '3.0irfn', '7.0hfa',\n",
       "       '0.0zy', '0.0viar', '6.0zx', '0.0td', '0.0diq', '4.0qed',\n",
       "       '0.0hrcr', '0.0gli', '30.0bkp', '0.0qton', '30.0byze', '0.0hmg',\n",
       "       '0.0wvp', '0.0aar', '0.0vrj', '0.0ad', '4.0nuj', '0.0wob', '0.0vk',\n",
       "       '0.0gfu', '0.0snun', '0.0wjh', '0.0tohe', '0.0ljkf', '30.0hgjd',\n",
       "       '0.0iivz', '0.0cby', '30.0v', '0.0tn', '15.0o', '192.0', '30.0hxa',\n",
       "       '0.0kmaa', '0.0ex', '0.0lo', '12.0sk', '0.0bmj', '0.0rk',\n",
       "       '25.0nfa', '975.0', '432.0', '14.0nn', '0.0uvuw', '14.0xbwi',\n",
       "       '0.0on', '4.0ubxj', '5.0s', '5.0kupt', '20.0vkni', '0.0yw',\n",
       "       '0.0ir', '0.0gd', '14.0j', '310.0', '2.0f', '15.0dp', '20.0kc',\n",
       "       '0.0ka', '0.0ep', '2.0n', '0.0yt', '0.0pd', '0.0ij', '0.0ni',\n",
       "       '4.0lk', '30.0gpqe', '0.0bunq', '0.0hjk', '0.0ipjk', '0.0sjg',\n",
       "       '2.0flkz', '0.0yu', '0.0vqlw', '0.0zgm', '1.0hci'], dtype=object)"
      ]
     },
     "execution_count": 16,
     "metadata": {},
     "output_type": "execute_result"
    }
   ],
   "source": [
    "data['PhysicalHealth'].unique()"
   ]
  },
  {
   "cell_type": "code",
   "execution_count": 17,
   "metadata": {},
   "outputs": [],
   "source": [
    "def cleanNumericWithRange(column, min, max, isInteger: bool):\n",
    "    data[column] = data[column].str.rstrip('abcdefghijklmnopqrstuvwxyz')\n",
    "    if isInteger:\n",
    "        data[column] = pd.to_numeric(data[column]).astype(int)\n",
    "    else:\n",
    "        data[column] = pd.to_numeric(data[column])\n",
    "    data[column].clip(upper=max, lower=min, inplace=True)"
   ]
  },
  {
   "cell_type": "code",
   "execution_count": 18,
   "metadata": {},
   "outputs": [
    {
     "name": "stderr",
     "output_type": "stream",
     "text": [
      "C:\\Users\\elpin\\AppData\\Local\\Temp\\ipykernel_13200\\1345027957.py:2: SettingWithCopyWarning: \n",
      "A value is trying to be set on a copy of a slice from a DataFrame.\n",
      "Try using .loc[row_indexer,col_indexer] = value instead\n",
      "\n",
      "See the caveats in the documentation: https://pandas.pydata.org/pandas-docs/stable/user_guide/indexing.html#returning-a-view-versus-a-copy\n",
      "  data[column] = data[column].str.rstrip('abcdefghijklmnopqrstuvwxyz')\n",
      "C:\\Users\\elpin\\AppData\\Local\\Temp\\ipykernel_13200\\1345027957.py:4: SettingWithCopyWarning: \n",
      "A value is trying to be set on a copy of a slice from a DataFrame.\n",
      "Try using .loc[row_indexer,col_indexer] = value instead\n",
      "\n",
      "See the caveats in the documentation: https://pandas.pydata.org/pandas-docs/stable/user_guide/indexing.html#returning-a-view-versus-a-copy\n",
      "  data[column] = pd.to_numeric(data[column]).astype(int)\n",
      "C:\\Users\\elpin\\AppData\\Local\\Temp\\ipykernel_13200\\1345027957.py:7: SettingWithCopyWarning: \n",
      "A value is trying to be set on a copy of a slice from a DataFrame\n",
      "\n",
      "See the caveats in the documentation: https://pandas.pydata.org/pandas-docs/stable/user_guide/indexing.html#returning-a-view-versus-a-copy\n",
      "  data[column].clip(upper=max, lower=min, inplace=True)\n"
     ]
    }
   ],
   "source": [
    "cleanNumericWithRange('PhysicalHealth', 0, 30, True)"
   ]
  },
  {
   "cell_type": "code",
   "execution_count": 19,
   "metadata": {},
   "outputs": [
    {
     "data": {
      "text/plain": [
       "array([ 0,  1, 14,  3,  2,  5, 30, 10, 25, 12, 20, 15,  4, 21, 29,  7, 28,\n",
       "       18, 13, 27,  6,  9, 16,  8, 26, 22, 19, 24, 17, 11, 23])"
      ]
     },
     "execution_count": 19,
     "metadata": {},
     "output_type": "execute_result"
    }
   ],
   "source": [
    "data['PhysicalHealth'].unique()\n"
   ]
  },
  {
   "cell_type": "code",
   "execution_count": 20,
   "metadata": {},
   "outputs": [
    {
     "data": {
      "text/plain": [
       "array(['0.0', '2.0', '1.0', ..., '0.0mksv', '2.0oe', '0.0tcf'],\n",
       "      dtype=object)"
      ]
     },
     "execution_count": 20,
     "metadata": {},
     "output_type": "execute_result"
    }
   ],
   "source": [
    "data['MentalHealth'].unique()"
   ]
  },
  {
   "cell_type": "code",
   "execution_count": 21,
   "metadata": {},
   "outputs": [
    {
     "name": "stderr",
     "output_type": "stream",
     "text": [
      "C:\\Users\\elpin\\AppData\\Local\\Temp\\ipykernel_13200\\1345027957.py:2: SettingWithCopyWarning: \n",
      "A value is trying to be set on a copy of a slice from a DataFrame.\n",
      "Try using .loc[row_indexer,col_indexer] = value instead\n",
      "\n",
      "See the caveats in the documentation: https://pandas.pydata.org/pandas-docs/stable/user_guide/indexing.html#returning-a-view-versus-a-copy\n",
      "  data[column] = data[column].str.rstrip('abcdefghijklmnopqrstuvwxyz')\n",
      "C:\\Users\\elpin\\AppData\\Local\\Temp\\ipykernel_13200\\1345027957.py:4: SettingWithCopyWarning: \n",
      "A value is trying to be set on a copy of a slice from a DataFrame.\n",
      "Try using .loc[row_indexer,col_indexer] = value instead\n",
      "\n",
      "See the caveats in the documentation: https://pandas.pydata.org/pandas-docs/stable/user_guide/indexing.html#returning-a-view-versus-a-copy\n",
      "  data[column] = pd.to_numeric(data[column]).astype(int)\n",
      "C:\\Users\\elpin\\AppData\\Local\\Temp\\ipykernel_13200\\1345027957.py:7: SettingWithCopyWarning: \n",
      "A value is trying to be set on a copy of a slice from a DataFrame\n",
      "\n",
      "See the caveats in the documentation: https://pandas.pydata.org/pandas-docs/stable/user_guide/indexing.html#returning-a-view-versus-a-copy\n",
      "  data[column].clip(upper=max, lower=min, inplace=True)\n"
     ]
    }
   ],
   "source": [
    "cleanNumericWithRange('MentalHealth', 0, 30, True)"
   ]
  },
  {
   "cell_type": "code",
   "execution_count": 22,
   "metadata": {},
   "outputs": [
    {
     "data": {
      "text/plain": [
       "array([ 0,  2,  1, 30, 10,  4,  7, 15,  5, 20,  3,  6,  8, 25, 29, 14, 13,\n",
       "       21, 24, 12, 19, 28, 22, 26, 16, 18,  9, 17, 23, 11, 27])"
      ]
     },
     "execution_count": 22,
     "metadata": {},
     "output_type": "execute_result"
    }
   ],
   "source": [
    "data['MentalHealth'].unique()"
   ]
  },
  {
   "cell_type": "markdown",
   "metadata": {},
   "source": [
    "<font size=\"5\"> Correción Diabetico</font> "
   ]
  },
  {
   "cell_type": "code",
   "execution_count": 23,
   "metadata": {},
   "outputs": [
    {
     "data": {
      "text/plain": [
       "Diabetic\n",
       "No                         49110\n",
       "Yes                         7294\n",
       "No, borderline diabetes     1252\n",
       "Yes (during pregnancy)       443\n",
       "v                             16\n",
       "                           ...  \n",
       "nay                            1\n",
       "nbm                            1\n",
       "nbyj                           1\n",
       "nd                             1\n",
       "↺Yes↺                          1\n",
       "Name: Index, Length: 993, dtype: int64"
      ]
     },
     "execution_count": 23,
     "metadata": {},
     "output_type": "execute_result"
    }
   ],
   "source": [
    "data.groupby('Diabetic')['Index'].nunique().sort_values(ascending=False)"
   ]
  },
  {
   "cell_type": "code",
   "execution_count": 24,
   "metadata": {},
   "outputs": [
    {
     "name": "stderr",
     "output_type": "stream",
     "text": [
      "C:\\Users\\elpin\\AppData\\Local\\Temp\\ipykernel_13200\\435858336.py:1: SettingWithCopyWarning: \n",
      "A value is trying to be set on a copy of a slice from a DataFrame\n",
      "\n",
      "See the caveats in the documentation: https://pandas.pydata.org/pandas-docs/stable/user_guide/indexing.html#returning-a-view-versus-a-copy\n",
      "  data['Diabetic'].fillna(\"Yes\", inplace = True)\n"
     ]
    }
   ],
   "source": [
    "data['Diabetic'].fillna(\"Yes\", inplace = True)"
   ]
  },
  {
   "cell_type": "code",
   "execution_count": 25,
   "metadata": {},
   "outputs": [],
   "source": [
    "data.loc[data['Diabetic'].str.contains('Yes (during pregnancy)', regex=False), 'Diabetic'] = 'Yes (during pregnancy)'"
   ]
  },
  {
   "cell_type": "code",
   "execution_count": 26,
   "metadata": {},
   "outputs": [],
   "source": [
    "data.loc[data['Diabetic'].str.contains('No, borderline diabetes', regex=False), 'Diabetic'] = 'No, borderline diabetes'"
   ]
  },
  {
   "cell_type": "code",
   "execution_count": 27,
   "metadata": {},
   "outputs": [],
   "source": [
    "data.loc[data['Diabetic'].str.contains('No') & ~data['Diabetic'].str.contains('No, borderline diabetes'), 'Diabetic'] = 'No'"
   ]
  },
  {
   "cell_type": "code",
   "execution_count": 28,
   "metadata": {},
   "outputs": [],
   "source": [
    "data.loc[~data['Diabetic'].str.contains('No') & ~data['Diabetic'].str.contains('Yes (during pregnancy)', regex=False), 'Diabetic'] = 'Yes'"
   ]
  },
  {
   "cell_type": "code",
   "execution_count": 29,
   "metadata": {},
   "outputs": [
    {
     "data": {
      "text/plain": [
       "Diabetic\n",
       "No                         50149\n",
       "Yes                         9987\n",
       "No, borderline diabetes     1277\n",
       "Yes (during pregnancy)       461\n",
       "Name: Index, dtype: int64"
      ]
     },
     "execution_count": 29,
     "metadata": {},
     "output_type": "execute_result"
    }
   ],
   "source": [
    "\n",
    "data.groupby('Diabetic')['Index'].nunique().sort_values(ascending=False)"
   ]
  },
  {
   "cell_type": "markdown",
   "metadata": {},
   "source": [
    "<font size=\"5\"> Correción Raza</font> "
   ]
  },
  {
   "cell_type": "code",
   "execution_count": 30,
   "metadata": {},
   "outputs": [
    {
     "data": {
      "text/plain": [
       "Race\n",
       "White                             44726\n",
       "Hispanic                           4832\n",
       "Black                              4148\n",
       "Other                              1942\n",
       "Asian                              1487\n",
       "American Indian/Alaskan Native      971\n",
       "þWhiteÓ                              17\n",
       "Name: Index, dtype: int64"
      ]
     },
     "execution_count": 30,
     "metadata": {},
     "output_type": "execute_result"
    }
   ],
   "source": [
    "data.groupby('Race')['Index'].nunique().sort_values(ascending=False).head(7)"
   ]
  },
  {
   "cell_type": "code",
   "execution_count": 31,
   "metadata": {},
   "outputs": [
    {
     "name": "stderr",
     "output_type": "stream",
     "text": [
      "C:\\Users\\elpin\\AppData\\Local\\Temp\\ipykernel_13200\\1549002244.py:1: SettingWithCopyWarning: \n",
      "A value is trying to be set on a copy of a slice from a DataFrame\n",
      "\n",
      "See the caveats in the documentation: https://pandas.pydata.org/pandas-docs/stable/user_guide/indexing.html#returning-a-view-versus-a-copy\n",
      "  data['Race'].fillna('Other',inplace=True)\n"
     ]
    }
   ],
   "source": [
    "data['Race'].fillna('Other',inplace=True)"
   ]
  },
  {
   "cell_type": "code",
   "execution_count": 32,
   "metadata": {},
   "outputs": [],
   "source": [
    "razas = ['White','Hispanic','Black','Other','American Indian/Alaskan Native','Asian']\n",
    "\n",
    "for raza in razas:\n",
    "    data.loc[data['Race'].str.contains(raza, regex=False), 'Race'] = raza"
   ]
  },
  {
   "cell_type": "code",
   "execution_count": 33,
   "metadata": {},
   "outputs": [
    {
     "data": {
      "text/plain": [
       "Race\n",
       "White       45706\n",
       "Hispanic     4930\n",
       "Black        4257\n",
       "Other        3500\n",
       "Asian        1512\n",
       "            ...  \n",
       "ixot            1\n",
       "ixq             1\n",
       "iz              1\n",
       "jbul            1\n",
       "zyep            1\n",
       "Name: Index, Length: 755, dtype: int64"
      ]
     },
     "execution_count": 33,
     "metadata": {},
     "output_type": "execute_result"
    }
   ],
   "source": [
    "data.groupby('Race')['Index'].nunique().sort_values(ascending=False)"
   ]
  },
  {
   "cell_type": "code",
   "execution_count": 34,
   "metadata": {},
   "outputs": [],
   "source": [
    "data.loc[~(data['Race'].str.contains('White', regex=False) | data['Race'].str.contains('Hispanic', regex=False) | data['Race'].str.contains('Black', regex=False) | data['Race'].str.contains('Other', regex=False) | data['Race'].str.contains('Asian', regex=False) | data['Race'].str.contains('American Indian/Alaskan Native', regex=False)), 'Race'] = 'Other'"
   ]
  },
  {
   "cell_type": "code",
   "execution_count": 35,
   "metadata": {},
   "outputs": [
    {
     "data": {
      "text/plain": [
       "Race\n",
       "White                             45706\n",
       "Hispanic                           4930\n",
       "Other                              4486\n",
       "Black                              4257\n",
       "Asian                              1512\n",
       "American Indian/Alaskan Native      983\n",
       "Name: Index, dtype: int64"
      ]
     },
     "execution_count": 35,
     "metadata": {},
     "output_type": "execute_result"
    }
   ],
   "source": [
    "data.groupby('Race')['Index'].nunique().sort_values(ascending=False)"
   ]
  }
 ],
 "metadata": {
  "kernelspec": {
   "display_name": "Python 3.8.5 64-bit",
   "language": "python",
   "name": "python3"
  },
  "language_info": {
   "codemirror_mode": {
    "name": "ipython",
    "version": 3
   },
   "file_extension": ".py",
   "mimetype": "text/x-python",
   "name": "python",
   "nbconvert_exporter": "python",
   "pygments_lexer": "ipython3",
   "version": "3.8.5"
  },
  "vscode": {
   "interpreter": {
    "hash": "29bac995d0c570c5b3d713e56b73d69daaa4566681c7e7cdcd767b69a1be78b9"
   }
  }
 },
 "nbformat": 4,
 "nbformat_minor": 4
}
