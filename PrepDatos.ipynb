{
 "cells": [
  {
   "cell_type": "markdown",
   "metadata": {},
   "source": [
    "- Diabetic           yes\n",
    "- Race               other\n",
    "- Sex                indefinido\n",
    "- GenHealth          Primero arreglar los ya definidos(Very good/Good/Excellent/Fair/Poor), los que no hacen parte del grupo \n",
    "cambiar a undefined, sacar moda y cambiar undefined a moda.\n",
    "- Smoking            yes\n",
    "- Stroke             yes\n",
    "- BMI                promedio dependiendo del genero \n",
    "\n"
   ]
  },
  {
   "cell_type": "code",
   "execution_count": null,
   "metadata": {},
   "outputs": [],
   "source": [
    "import pickle as pkl\n",
    "import numpy as np\n",
    "import pandas as pd"
   ]
  },
  {
   "cell_type": "code",
   "execution_count": null,
   "metadata": {},
   "outputs": [],
   "source": [
    "dataOriginal = pd.read_csv('data\\heart_disease_data.csv')"
   ]
  },
  {
   "cell_type": "code",
   "execution_count": null,
   "metadata": {},
   "outputs": [],
   "source": [
    "data = dataOriginal[pd.notnull(dataOriginal['HeartDisease'])]"
   ]
  },
  {
   "cell_type": "code",
   "execution_count": null,
   "metadata": {},
   "outputs": [],
   "source": [
    "dataOriginal.shape"
   ]
  },
  {
   "cell_type": "code",
   "execution_count": null,
   "metadata": {},
   "outputs": [],
   "source": [
    "data.shape"
   ]
  },
  {
   "cell_type": "code",
   "execution_count": null,
   "metadata": {},
   "outputs": [],
   "source": [
    "data.describe()"
   ]
  },
  {
   "cell_type": "code",
   "execution_count": null,
   "metadata": {},
   "outputs": [],
   "source": [
    "data.head()"
   ]
  },
  {
   "cell_type": "code",
   "execution_count": null,
   "metadata": {},
   "outputs": [],
   "source": [
    "data.dtypes"
   ]
  },
  {
   "cell_type": "code",
   "execution_count": null,
   "metadata": {},
   "outputs": [],
   "source": [
    "data.isnull().mean()"
   ]
  },
  {
   "cell_type": "markdown",
   "metadata": {},
   "source": [
    "<font size=\"5\"> Correción Smoking/Stroke/Heart Disease</font> "
   ]
  },
  {
   "cell_type": "code",
   "execution_count": null,
   "metadata": {},
   "outputs": [],
   "source": [
    "def clean_yes_no(column):\n",
    "    data[column].fillna(\"Yes\", inplace = True)\n",
    "    data.loc[data[column].str.contains('Yes'), column] = \"Yes\"\n",
    "    data.loc[data[column].str.contains('No'), column] = \"No\"\n",
    "    data.loc[~data[column].str.contains('No'), column] = \"Yes\"\n",
    "    "
   ]
  },
  {
   "cell_type": "code",
   "execution_count": null,
   "metadata": {},
   "outputs": [],
   "source": [
    "dañadas = ['Smoking', 'Stroke', 'HeartDisease']\n",
    "for col in dañadas:\n",
    "    clean_yes_no(col)"
   ]
  },
  {
   "cell_type": "markdown",
   "metadata": {},
   "source": [
    "HACER ESTO DESPUES DE HACER LAS CORRECIONES DE LOS DATOS"
   ]
  },
  {
   "cell_type": "code",
   "execution_count": null,
   "metadata": {},
   "outputs": [],
   "source": [
    "for col in data.columns:\n",
    "    if data[col].dtype == 'object':\n",
    "        print(col, data[col].unique())"
   ]
  },
  {
   "cell_type": "markdown",
   "metadata": {},
   "source": [
    "<font size=\"5\"> Correción Sexo</font> "
   ]
  },
  {
   "cell_type": "code",
   "execution_count": null,
   "metadata": {},
   "outputs": [],
   "source": [
    "data.groupby('Sex')['Index'].nunique()"
   ]
  },
  {
   "cell_type": "code",
   "execution_count": null,
   "metadata": {},
   "outputs": [],
   "source": [
    "data[\"Sex\"].fillna(\"Other\", inplace = True)\n",
    "data.loc[data[\"Sex\"].str.contains('Male'), \"Sex\"] = \"Male\"\n",
    "data.loc[data[\"Sex\"].str.contains('Female'), \"Sex\"] = \"Female\"\n",
    "data.loc[~data[\"Sex\"].str.contains('Male') & ~data[\"Sex\"].str.contains('Female'), \"Sex\"] = \"Other\""
   ]
  },
  {
   "cell_type": "code",
   "execution_count": null,
   "metadata": {},
   "outputs": [],
   "source": [
    "data.groupby('Sex')['Index'].nunique()"
   ]
  },
  {
   "cell_type": "markdown",
   "metadata": {},
   "source": [
    "<font size=\"5\"> Correción Physical/ Mental health</font> "
   ]
  },
  {
   "cell_type": "code",
   "execution_count": null,
   "metadata": {},
   "outputs": [],
   "source": [
    "data['PhysicalHealth'].unique()"
   ]
  },
  {
   "cell_type": "code",
   "execution_count": null,
   "metadata": {},
   "outputs": [],
   "source": [
    "def cleanNumericWithRange(column, min, max, isInteger: bool):\n",
    "    data[column] = data[column].str.rstrip('abcdefghijklmnopqrstuvwxyz')\n",
    "    if isInteger:\n",
    "        data[column] = pd.to_numeric(data[column]).astype(int)\n",
    "    else:\n",
    "        data[column] = pd.to_numeric(data[column])\n",
    "    data[column].clip(upper=max, lower=min, inplace=True)"
   ]
  },
  {
   "cell_type": "code",
   "execution_count": null,
   "metadata": {},
   "outputs": [],
   "source": [
    "cleanNumericWithRange('PhysicalHealth', 0, 30, True)"
   ]
  },
  {
   "cell_type": "code",
   "execution_count": null,
   "metadata": {},
   "outputs": [],
   "source": [
    "data['PhysicalHealth'].unique()\n"
   ]
  },
  {
   "cell_type": "code",
   "execution_count": null,
   "metadata": {},
   "outputs": [],
   "source": [
    "data['MentalHealth'].unique()"
   ]
  },
  {
   "cell_type": "code",
   "execution_count": null,
   "metadata": {},
   "outputs": [],
   "source": [
    "cleanNumericWithRange('MentalHealth', 0, 30, True)"
   ]
  },
  {
   "cell_type": "code",
   "execution_count": null,
   "metadata": {},
   "outputs": [],
   "source": [
    "data['MentalHealth'].unique()"
   ]
  },
  {
   "cell_type": "markdown",
   "metadata": {},
   "source": [
    "<font size=\"5\"> Correción Diabetico</font> "
   ]
  },
  {
   "cell_type": "code",
   "execution_count": null,
   "metadata": {},
   "outputs": [],
   "source": [
    "data.groupby('Diabetic')['Index'].nunique().sort_values(ascending=False)"
   ]
  },
  {
   "cell_type": "code",
   "execution_count": null,
   "metadata": {},
   "outputs": [],
   "source": [
    "data['Diabetic'].fillna(\"Yes\", inplace = True)"
   ]
  },
  {
   "cell_type": "code",
   "execution_count": null,
   "metadata": {},
   "outputs": [],
   "source": [
    "data.loc[data['Diabetic'].str.contains('Yes (during pregnancy)', regex=False), 'Diabetic'] = 'Yes (during pregnancy)'"
   ]
  },
  {
   "cell_type": "code",
   "execution_count": null,
   "metadata": {},
   "outputs": [],
   "source": [
    "data.loc[data['Diabetic'].str.contains('No, borderline diabetes', regex=False), 'Diabetic'] = 'No, borderline diabetes'"
   ]
  },
  {
   "cell_type": "code",
   "execution_count": null,
   "metadata": {},
   "outputs": [],
   "source": [
    "data.loc[data['Diabetic'].str.contains('No') & ~data['Diabetic'].str.contains('No, borderline diabetes'), 'Diabetic'] = 'No'"
   ]
  },
  {
   "cell_type": "code",
   "execution_count": null,
   "metadata": {},
   "outputs": [],
   "source": [
    "data.loc[~data['Diabetic'].str.contains('No') & ~data['Diabetic'].str.contains('Yes (during pregnancy)', regex=False), 'Diabetic'] = 'Yes'"
   ]
  },
  {
   "cell_type": "code",
   "execution_count": null,
   "metadata": {},
   "outputs": [],
   "source": [
    "\n",
    "data.groupby('Diabetic')['Index'].nunique().sort_values(ascending=False)"
   ]
  },
  {
   "cell_type": "markdown",
   "metadata": {},
   "source": [
    "<font size=\"5\"> Correción Raza</font> "
   ]
  },
  {
   "cell_type": "code",
   "execution_count": null,
   "metadata": {},
   "outputs": [],
   "source": [
    "data.groupby('Race')['Index'].nunique().sort_values(ascending=False).head(7)"
   ]
  },
  {
   "cell_type": "code",
   "execution_count": null,
   "metadata": {},
   "outputs": [],
   "source": [
    "data['Race'].fillna('Other',inplace=True)"
   ]
  },
  {
   "cell_type": "code",
   "execution_count": null,
   "metadata": {},
   "outputs": [],
   "source": [
    "razas = ['White','Hispanic','Black','Other','American Indian/Alaskan Native','Asian']\n",
    "\n",
    "for raza in razas:\n",
    "    data.loc[data['Race'].str.contains(raza, regex=False), 'Race'] = raza"
   ]
  },
  {
   "cell_type": "code",
   "execution_count": null,
   "metadata": {},
   "outputs": [],
   "source": [
    "data.groupby('Race')['Index'].nunique().sort_values(ascending=False)"
   ]
  },
  {
   "cell_type": "code",
   "execution_count": null,
   "metadata": {},
   "outputs": [],
   "source": [
    "data.loc[~(data['Race'].str.contains('White', regex=False) | data['Race'].str.contains('Hispanic', regex=False) | data['Race'].str.contains('Black', regex=False) | data['Race'].str.contains('Other', regex=False) | data['Race'].str.contains('Asian', regex=False) | data['Race'].str.contains('American Indian/Alaskan Native', regex=False)), 'Race'] = 'Other'"
   ]
  },
  {
   "cell_type": "code",
   "execution_count": null,
   "metadata": {},
   "outputs": [],
   "source": [
    "data.groupby('Race')['Index'].nunique().sort_values(ascending=False)"
   ]
  },
  {
   "cell_type": "markdown",
   "metadata": {},
   "source": [
    "<font size=5>Corrección SleepTime</font>"
   ]
  },
  {
   "cell_type": "markdown",
   "metadata": {},
   "source": [
    "<p>Existen ciertos datos que no están dentro del rango aceptado >0 y <=24, sacamos un promedio de los datos que están correctos y reemplazamos los datos que están afuera del rango con el promedio calculado. Además la columna está en un tipo diferente al esperado.</p>"
   ]
  },
  {
   "cell_type": "code",
   "execution_count": null,
   "metadata": {},
   "outputs": [],
   "source": [
    "data['SleepTime']=pd.to_numeric(data['SleepTime'])\n",
    "sleepTimePromedio = data.loc[data['SleepTime'].between(0, 24, inclusive = 'left')]['SleepTime'].mean()\n",
    "data.loc[~data['SleepTime'].between(0, 24, inclusive = 'left'), 'SleepTime'] = sleepTimePromedio"
   ]
  },
  {
   "cell_type": "code",
   "execution_count": null,
   "metadata": {},
   "outputs": [],
   "source": [
    "data['SleepTime'].unique()"
   ]
  },
  {
   "cell_type": "markdown",
   "metadata": {},
   "source": [
    "<font size=5>Correción AgeCategory</font>"
   ]
  },
  {
   "cell_type": "markdown",
   "metadata": {},
   "source": [
    "Existen algunos datos que están dentro de un rango inferior a 50, estos datos serán cambiados por la moda de los rangos que si pertenecen a la definición."
   ]
  },
  {
   "cell_type": "code",
   "execution_count": null,
   "metadata": {},
   "outputs": [],
   "source": [
    "data['AgeCategory'].unique()"
   ]
  },
  {
   "cell_type": "code",
   "execution_count": null,
   "metadata": {},
   "outputs": [],
   "source": [
    "moda = data.loc[data['AgeCategory'].str.contains('59-55') | data['AgeCategory'].str.contains('64-60') |\n",
    "                data['AgeCategory'].str.contains('69-65') | data['AgeCategory'].str.contains('74-70') |\n",
    "                data['AgeCategory'].str.contains('79-75') | data['AgeCategory'].str.contains('or older 80')\n",
    "                ]['AgeCategory'].mode()"
   ]
  },
  {
   "cell_type": "code",
   "execution_count": null,
   "metadata": {},
   "outputs": [],
   "source": [
    "data.loc[~(data['AgeCategory'].str.contains('59-55') | data['AgeCategory'].str.contains('64-60') |\n",
    "                data['AgeCategory'].str.contains('69-65') | data['AgeCategory'].str.contains('74-70') |\n",
    "                data['AgeCategory'].str.contains('79-75') | data['AgeCategory'].str.contains('or older 80'))\n",
    "        , 'AgeCategory'] = moda[0]"
   ]
  },
  {
   "cell_type": "markdown",
   "metadata": {},
   "source": [
    "<font size=5>Correción BMI</font>"
   ]
  },
  {
   "cell_type": "code",
   "execution_count": null,
   "metadata": {},
   "outputs": [],
   "source": [
    "copia = data[['Sex','BMI']].copy()\n",
    "copia[pd.notnull(copia['BMI'])]\n",
    "copia['BMI'] = copia['BMI'].str.rstrip('abcdefghijklmnopqrstuvwxyz')\n",
    "copia['BMI'] = pd.to_numeric(copia['BMI']).astype(float)\n",
    "copia.drop(copia[copia['BMI'] >=99].index, inplace = True)\n",
    "copia.drop(copia[copia['BMI'] <=1].index, inplace = True)\n",
    "promedios = copia.groupby('Sex')['BMI'].mean()"
   ]
  },
  {
   "cell_type": "code",
   "execution_count": null,
   "metadata": {},
   "outputs": [],
   "source": [
    "pd.options.mode.chained_assignment = None\n",
    "data[\"BMI\"].fillna(100, inplace = True)\n",
    "data[\"BMI\"] = data[\"BMI\"].str.rstrip('abcdefghijklmnopqrstuvwxyz')\n",
    "data[\"BMI\"].fillna(100, inplace = True)"
   ]
  },
  {
   "cell_type": "code",
   "execution_count": null,
   "metadata": {},
   "outputs": [],
   "source": [
    "\n",
    "data['BMI'] = pd.to_numeric(data['BMI']).astype(float)\n",
    "data.loc[(data[\"BMI\"].gt(98) & data[\"Sex\"].str.contains('Female')), \"BMI\"] = round(promedios.Female,2)\n",
    "data.loc[(data[\"BMI\"].gt(98) & data[\"Sex\"].str.contains('Male')), \"BMI\"] = round(promedios.Male,2)\n",
    "data.loc[(data[\"BMI\"].gt(98) & data[\"Sex\"].str.contains('Other')), \"BMI\"] = round(promedios.Other,2)"
   ]
  },
  {
   "cell_type": "code",
   "execution_count": null,
   "metadata": {},
   "outputs": [],
   "source": [
    "np.set_printoptions(threshold=np.inf)\n",
    "data['BMI'].describe()\n"
   ]
  },
  {
   "cell_type": "code",
   "execution_count": null,
   "metadata": {},
   "outputs": [],
   "source": [
    "data['BMI'].unique()"
   ]
  },
  {
   "cell_type": "markdown",
   "metadata": {},
   "source": [
    "<font size=5>Correción GenHealth</font>"
   ]
  },
  {
   "cell_type": "markdown",
   "metadata": {},
   "source": [
    "Se corrigieron los valores que tenían los valores correctos pero letras adcionales, tambien se reemplazaron los nulos y los valores incorrectos por la moda."
   ]
  },
  {
   "cell_type": "code",
   "execution_count": null,
   "metadata": {},
   "outputs": [],
   "source": [
    "data['GenHealth'].fillna('None', inplace = True)\n",
    "data.loc[data['GenHealth'].str.contains('Very good'), 'GenHealth'] = 'Very good'\n",
    "data.loc[data['GenHealth'].str.contains('Good'), 'GenHealth'] = 'Good'\n",
    "data.loc[data['GenHealth'].str.contains('Excellent'), 'GenHealth'] = 'Excellent'\n",
    "data.loc[data['GenHealth'].str.contains('Fair'), 'GenHealth'] = 'Fair'\n",
    "data.loc[data['GenHealth'].str.contains('Poor'), 'GenHealth'] = 'Poor'\n",
    "mode = data['GenHealth'].mode()"
   ]
  },
  {
   "cell_type": "code",
   "execution_count": null,
   "metadata": {},
   "outputs": [],
   "source": [
    "data.loc[~(data['GenHealth'].str.contains('Very good')) & ~(data['GenHealth'].str.contains('Good')) & ~(data['GenHealth'].str.contains('Excellent')) & ~(data['GenHealth'].str.contains('Fair')) & ~(data['GenHealth'].str.contains('Poor')), 'GenHealth'] = mode[0]"
   ]
  },
  {
   "cell_type": "markdown",
   "metadata": {},
   "source": [
    "<font size=5>Convertir datos limpios a csv</font>"
   ]
  },
  {
   "cell_type": "code",
   "execution_count": null,
   "metadata": {},
   "outputs": [],
   "source": [
    "data.to_csv(path_or_buf='datos_convertidos.csv',index=False)"
   ]
  }
 ],
 "metadata": {
  "kernelspec": {
   "display_name": "Python 3.10.4 64-bit",
   "language": "python",
   "name": "python3"
  },
  "language_info": {
   "codemirror_mode": {
    "name": "ipython",
    "version": 3
   },
   "file_extension": ".py",
   "mimetype": "text/x-python",
   "name": "python",
   "nbconvert_exporter": "python",
   "pygments_lexer": "ipython3",
   "version": "3.10.4"
  },
  "vscode": {
   "interpreter": {
    "hash": "680909a85cd0f96ba1c50ae49c7276dc4874e63b5fd1d1624a0b59680dc2cd74"
   }
  }
 },
 "nbformat": 4,
 "nbformat_minor": 4
}
