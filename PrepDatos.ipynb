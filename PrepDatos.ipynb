{
 "cells": [
  {
   "cell_type": "markdown",
   "metadata": {},
   "source": [
    "- Diabetic           yes\n",
    "- Race               other\n",
    "- Sex                indefinido\n",
    "- GenHealth          Primero arreglar los ya definidos(Very good/Good/Excellent/Fair/Poor), los que no hacen parte del grupo \n",
    "cambiar a undefined, sacar moda y cambiar undefined a moda.\n",
    "- Smoking            yes\n",
    "- Stroke             yes\n",
    "- BMI                promedio dependiendo del genero \n",
    "\n"
   ]
  },
  {
   "cell_type": "code",
   "execution_count": null,
   "metadata": {},
   "outputs": [],
   "source": [
    "import pickle as pkl\n",
    "import numpy as np\n",
    "import pandas as pd"
   ]
  },
  {
   "cell_type": "code",
   "execution_count": null,
   "metadata": {},
   "outputs": [],
   "source": [
    "dataOriginal = pd.read_csv('data\\heart_disease_data.csv')"
   ]
  },
  {
   "cell_type": "code",
   "execution_count": null,
   "metadata": {},
   "outputs": [],
   "source": [
    "data = dataOriginal[pd.notnull(dataOriginal['HeartDisease'])]"
   ]
  },
  {
   "cell_type": "code",
   "execution_count": null,
   "metadata": {},
   "outputs": [],
   "source": [
    "dataOriginal.shape"
   ]
  },
  {
   "cell_type": "code",
   "execution_count": null,
   "metadata": {},
   "outputs": [],
   "source": [
    "data.shape"
   ]
  },
  {
   "cell_type": "code",
   "execution_count": null,
   "metadata": {},
   "outputs": [],
   "source": [
    "data.describe()"
   ]
  },
  {
   "cell_type": "code",
   "execution_count": null,
   "metadata": {},
   "outputs": [],
   "source": [
    "data.head()"
   ]
  },
  {
   "cell_type": "code",
   "execution_count": null,
   "metadata": {},
   "outputs": [],
   "source": [
    "data.dtypes"
   ]
  },
  {
   "cell_type": "code",
   "execution_count": null,
   "metadata": {},
   "outputs": [],
   "source": [
    "def clean_yes_no(column):\n",
    "    data[column].fillna(\"Yes\", inplace = True)\n",
    "    data.loc[data[column].str.contains('Yes'), column] = \"Yes\"\n",
    "    data.loc[data[column].str.contains('No'), column] = \"No\"\n",
    "    data.loc[~data[column].str.contains('No'), column] = \"Yes\"\n",
    "    "
   ]
  },
  {
   "cell_type": "code",
   "execution_count": null,
   "metadata": {},
   "outputs": [],
   "source": [
    "dañadas = ['Smoking', 'Stroke', 'HeartDisease', 'Diabetic']\n",
    "for col in dañadas:\n",
    "    clean_yes_no(col)"
   ]
  },
  {
   "cell_type": "markdown",
   "metadata": {},
   "source": [
    "HACER ESTO DESPUES DE HACER LAS CORRECIONES DE LOS DATOS"
   ]
  },
  {
   "cell_type": "code",
   "execution_count": null,
   "metadata": {},
   "outputs": [],
   "source": [
    "for col in data.columns:\n",
    "    if data[col].dtype == 'object':\n",
    "        print(col, data[col].unique())"
   ]
  },
  {
   "cell_type": "markdown",
   "metadata": {},
   "source": [
    "<font size=\"5\"> Correción Sexo</font> "
   ]
  },
  {
   "cell_type": "code",
   "execution_count": null,
   "metadata": {},
   "outputs": [],
   "source": [
    "data[\"Sex\"].fillna(\"Other\", inplace = True)\n",
    "data.loc[data[\"Sex\"].str.contains('Male'), \"Sex\"] = \"Male\"\n",
    "data.loc[data[\"Sex\"].str.contains('Female'), \"Sex\"] = \"Female\"\n",
    "data.loc[~data[\"Sex\"].str.contains('Male') & ~data[\"Sex\"].str.contains('Female'), \"Sex\"] = \"Other\""
   ]
  },
  {
   "cell_type": "code",
   "execution_count": null,
   "metadata": {},
   "outputs": [],
   "source": [
    "data[\"Sex\"].unique()"
   ]
  },
  {
   "cell_type": "markdown",
   "metadata": {},
   "source": [
    "<font size=\"5\"> Correción Physical/ Mental health</font> "
   ]
  },
  {
   "cell_type": "code",
   "execution_count": null,
   "metadata": {},
   "outputs": [],
   "source": [
    "data['PhysicalHealth'].unique()"
   ]
  },
  {
   "cell_type": "code",
   "execution_count": null,
   "metadata": {},
   "outputs": [],
   "source": [
    "def cleanNumericWithRange(column, min, max, isInteger: bool):\n",
    "    data[column] = data[column].str.rstrip('abcdefghijklmnopqrstuvwxyz')\n",
    "    if isInteger:\n",
    "        data[column] = pd.to_numeric(data[column]).astype(int)\n",
    "    else:\n",
    "        data[column] = pd.to_numeric(data[column])\n",
    "    data[column].clip(upper=max, lower=min, inplace=True)"
   ]
  },
  {
   "cell_type": "code",
   "execution_count": null,
   "metadata": {},
   "outputs": [],
   "source": [
    "cleanNumericWithRange('PhysicalHealth', 0, 30, True)"
   ]
  },
  {
   "cell_type": "code",
   "execution_count": null,
   "metadata": {},
   "outputs": [],
   "source": [
    "data['PhysicalHealth'].unique()\n"
   ]
  },
  {
   "cell_type": "code",
   "execution_count": null,
   "metadata": {},
   "outputs": [],
   "source": [
    "data['MentalHealth'].unique()"
   ]
  },
  {
   "cell_type": "code",
   "execution_count": null,
   "metadata": {},
   "outputs": [],
   "source": [
    "cleanNumericWithRange('MentalHealth', 0, 30, True)"
   ]
  },
  {
   "cell_type": "code",
   "execution_count": null,
   "metadata": {},
   "outputs": [],
   "source": [
    "data['MentalHealth'].unique()"
   ]
  }
 ],
 "metadata": {
  "kernelspec": {
   "display_name": "Python 3.8.5 64-bit",
   "language": "python",
   "name": "python3"
  },
  "language_info": {
   "codemirror_mode": {
    "name": "ipython",
    "version": 3
   },
   "file_extension": ".py",
   "mimetype": "text/x-python",
   "name": "python",
   "nbconvert_exporter": "python",
   "pygments_lexer": "ipython3",
   "version": "3.8.5"
  },
  "vscode": {
   "interpreter": {
    "hash": "29bac995d0c570c5b3d713e56b73d69daaa4566681c7e7cdcd767b69a1be78b9"
   }
  }
 },
 "nbformat": 4,
 "nbformat_minor": 4
}
