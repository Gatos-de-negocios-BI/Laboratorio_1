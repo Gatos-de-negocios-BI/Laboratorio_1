{
 "cells": [
  {
   "cell_type": "markdown",
   "metadata": {},
   "source": [
    "<font size=6>Random Forest</font><br>\n",
    "<font size=5>Autor: <font color=\"#2890f9\"> William Mendez <br></font>\n",
    "<font size=3>GitHub: <font color=\"#A371F7\"> @WilliamMendez <br></font>\n",
    "<font size=3>Cuenta uniandes: <font color=\"#FFF200\"> w.mendez</font>"
   ]
  },
  {
   "cell_type": "markdown",
   "metadata": {},
   "source": [
    "Importamos las librerias necesarias"
   ]
  },
  {
   "cell_type": "code",
   "execution_count": 105,
   "metadata": {},
   "outputs": [],
   "source": [
    "import numpy as np\n",
    "import matplotlib.pyplot as plt\n",
    "import pandas as pd\n",
    "from sklearn import tree\n",
    "from sklearn.ensemble import RandomForestClassifier\n",
    "from sklearn.model_selection import train_test_split, GridSearchCV, RandomizedSearchCV\n",
    "from sklearn.metrics import accuracy_score, confusion_matrix, ConfusionMatrixDisplay, precision_score, recall_score, f1_score\n",
    "import seaborn as sns\n",
    "import pickle as pkl\n",
    "import os\n",
    "from datetime import datetime"
   ]
  },
  {
   "cell_type": "code",
   "execution_count": 106,
   "metadata": {},
   "outputs": [],
   "source": [
    "pd.set_option('display.max_columns', None) # Número máximo de columnas a mostrar\n",
    "pd.set_option('display.max_rows', 50) # Numero máximo de filas a mostar"
   ]
  },
  {
   "cell_type": "markdown",
   "metadata": {},
   "source": [
    "Cargamos los datos y los revisamos"
   ]
  },
  {
   "cell_type": "code",
   "execution_count": 107,
   "metadata": {},
   "outputs": [],
   "source": [
    "data = pd.read_csv('data/datos_convertidos.csv')"
   ]
  },
  {
   "cell_type": "code",
   "execution_count": 108,
   "metadata": {},
   "outputs": [
    {
     "data": {
      "text/html": [
       "<div>\n",
       "<style scoped>\n",
       "    .dataframe tbody tr th:only-of-type {\n",
       "        vertical-align: middle;\n",
       "    }\n",
       "\n",
       "    .dataframe tbody tr th {\n",
       "        vertical-align: top;\n",
       "    }\n",
       "\n",
       "    .dataframe thead th {\n",
       "        text-align: right;\n",
       "    }\n",
       "</style>\n",
       "<table border=\"1\" class=\"dataframe\">\n",
       "  <thead>\n",
       "    <tr style=\"text-align: right;\">\n",
       "      <th></th>\n",
       "      <th>Index</th>\n",
       "      <th>BMI</th>\n",
       "      <th>Smoking</th>\n",
       "      <th>AlcoholDrinking</th>\n",
       "      <th>Stroke</th>\n",
       "      <th>PhysicalHealth</th>\n",
       "      <th>MentalHealth</th>\n",
       "      <th>DiffWalking</th>\n",
       "      <th>Sex</th>\n",
       "      <th>AgeCategory</th>\n",
       "      <th>Race</th>\n",
       "      <th>Diabetic</th>\n",
       "      <th>PhysicalActivity</th>\n",
       "      <th>GenHealth</th>\n",
       "      <th>SleepTime</th>\n",
       "      <th>Asthma</th>\n",
       "      <th>KidneyDisease</th>\n",
       "      <th>SkinCancer</th>\n",
       "      <th>HeartDisease</th>\n",
       "    </tr>\n",
       "  </thead>\n",
       "  <tbody>\n",
       "    <tr>\n",
       "      <th>0</th>\n",
       "      <td>0</td>\n",
       "      <td>26.50</td>\n",
       "      <td>0</td>\n",
       "      <td>0</td>\n",
       "      <td>0</td>\n",
       "      <td>0</td>\n",
       "      <td>0</td>\n",
       "      <td>0</td>\n",
       "      <td>1</td>\n",
       "      <td>60</td>\n",
       "      <td>0</td>\n",
       "      <td>0</td>\n",
       "      <td>1</td>\n",
       "      <td>3</td>\n",
       "      <td>8.0</td>\n",
       "      <td>0</td>\n",
       "      <td>0</td>\n",
       "      <td>0</td>\n",
       "      <td>0</td>\n",
       "    </tr>\n",
       "    <tr>\n",
       "      <th>1</th>\n",
       "      <td>1</td>\n",
       "      <td>28.75</td>\n",
       "      <td>0</td>\n",
       "      <td>0</td>\n",
       "      <td>0</td>\n",
       "      <td>0</td>\n",
       "      <td>2</td>\n",
       "      <td>0</td>\n",
       "      <td>1</td>\n",
       "      <td>55</td>\n",
       "      <td>0</td>\n",
       "      <td>0</td>\n",
       "      <td>1</td>\n",
       "      <td>3</td>\n",
       "      <td>7.0</td>\n",
       "      <td>0</td>\n",
       "      <td>0</td>\n",
       "      <td>0</td>\n",
       "      <td>0</td>\n",
       "    </tr>\n",
       "    <tr>\n",
       "      <th>2</th>\n",
       "      <td>2</td>\n",
       "      <td>19.90</td>\n",
       "      <td>1</td>\n",
       "      <td>0</td>\n",
       "      <td>0</td>\n",
       "      <td>0</td>\n",
       "      <td>1</td>\n",
       "      <td>0</td>\n",
       "      <td>1</td>\n",
       "      <td>65</td>\n",
       "      <td>0</td>\n",
       "      <td>0</td>\n",
       "      <td>1</td>\n",
       "      <td>2</td>\n",
       "      <td>7.0</td>\n",
       "      <td>0</td>\n",
       "      <td>0</td>\n",
       "      <td>0</td>\n",
       "      <td>0</td>\n",
       "    </tr>\n",
       "    <tr>\n",
       "      <th>3</th>\n",
       "      <td>3</td>\n",
       "      <td>28.06</td>\n",
       "      <td>0</td>\n",
       "      <td>0</td>\n",
       "      <td>0</td>\n",
       "      <td>1</td>\n",
       "      <td>1</td>\n",
       "      <td>0</td>\n",
       "      <td>0</td>\n",
       "      <td>65</td>\n",
       "      <td>0</td>\n",
       "      <td>1</td>\n",
       "      <td>1</td>\n",
       "      <td>2</td>\n",
       "      <td>8.0</td>\n",
       "      <td>0</td>\n",
       "      <td>0</td>\n",
       "      <td>0</td>\n",
       "      <td>0</td>\n",
       "    </tr>\n",
       "    <tr>\n",
       "      <th>4</th>\n",
       "      <td>4</td>\n",
       "      <td>29.29</td>\n",
       "      <td>1</td>\n",
       "      <td>0</td>\n",
       "      <td>0</td>\n",
       "      <td>0</td>\n",
       "      <td>1</td>\n",
       "      <td>0</td>\n",
       "      <td>0</td>\n",
       "      <td>70</td>\n",
       "      <td>0</td>\n",
       "      <td>0</td>\n",
       "      <td>1</td>\n",
       "      <td>3</td>\n",
       "      <td>7.0</td>\n",
       "      <td>1</td>\n",
       "      <td>0</td>\n",
       "      <td>0</td>\n",
       "      <td>0</td>\n",
       "    </tr>\n",
       "  </tbody>\n",
       "</table>\n",
       "</div>"
      ],
      "text/plain": [
       "   Index    BMI  Smoking  AlcoholDrinking  Stroke  PhysicalHealth  \\\n",
       "0      0  26.50        0                0       0               0   \n",
       "1      1  28.75        0                0       0               0   \n",
       "2      2  19.90        1                0       0               0   \n",
       "3      3  28.06        0                0       0               1   \n",
       "4      4  29.29        1                0       0               0   \n",
       "\n",
       "   MentalHealth  DiffWalking  Sex  AgeCategory  Race  Diabetic  \\\n",
       "0             0            0    1           60     0         0   \n",
       "1             2            0    1           55     0         0   \n",
       "2             1            0    1           65     0         0   \n",
       "3             1            0    0           65     0         1   \n",
       "4             1            0    0           70     0         0   \n",
       "\n",
       "   PhysicalActivity  GenHealth  SleepTime  Asthma  KidneyDisease  SkinCancer  \\\n",
       "0                 1          3        8.0       0              0           0   \n",
       "1                 1          3        7.0       0              0           0   \n",
       "2                 1          2        7.0       0              0           0   \n",
       "3                 1          2        8.0       0              0           0   \n",
       "4                 1          3        7.0       1              0           0   \n",
       "\n",
       "   HeartDisease  \n",
       "0             0  \n",
       "1             0  \n",
       "2             0  \n",
       "3             0  \n",
       "4             0  "
      ]
     },
     "execution_count": 108,
     "metadata": {},
     "output_type": "execute_result"
    }
   ],
   "source": [
    "data.head()"
   ]
  },
  {
   "cell_type": "code",
   "execution_count": 109,
   "metadata": {},
   "outputs": [
    {
     "data": {
      "text/html": [
       "<div>\n",
       "<style scoped>\n",
       "    .dataframe tbody tr th:only-of-type {\n",
       "        vertical-align: middle;\n",
       "    }\n",
       "\n",
       "    .dataframe tbody tr th {\n",
       "        vertical-align: top;\n",
       "    }\n",
       "\n",
       "    .dataframe thead th {\n",
       "        text-align: right;\n",
       "    }\n",
       "</style>\n",
       "<table border=\"1\" class=\"dataframe\">\n",
       "  <thead>\n",
       "    <tr style=\"text-align: right;\">\n",
       "      <th></th>\n",
       "      <th>Index</th>\n",
       "      <th>BMI</th>\n",
       "      <th>Smoking</th>\n",
       "      <th>AlcoholDrinking</th>\n",
       "      <th>Stroke</th>\n",
       "      <th>PhysicalHealth</th>\n",
       "      <th>MentalHealth</th>\n",
       "      <th>DiffWalking</th>\n",
       "      <th>Sex</th>\n",
       "      <th>AgeCategory</th>\n",
       "      <th>Race</th>\n",
       "      <th>Diabetic</th>\n",
       "      <th>PhysicalActivity</th>\n",
       "      <th>GenHealth</th>\n",
       "      <th>SleepTime</th>\n",
       "      <th>Asthma</th>\n",
       "      <th>KidneyDisease</th>\n",
       "      <th>SkinCancer</th>\n",
       "      <th>HeartDisease</th>\n",
       "    </tr>\n",
       "  </thead>\n",
       "  <tbody>\n",
       "    <tr>\n",
       "      <th>count</th>\n",
       "      <td>61874.000000</td>\n",
       "      <td>61874.000000</td>\n",
       "      <td>61874.000000</td>\n",
       "      <td>61874.000000</td>\n",
       "      <td>61874.000000</td>\n",
       "      <td>61874.000000</td>\n",
       "      <td>61874.000000</td>\n",
       "      <td>61874.000000</td>\n",
       "      <td>61874.000000</td>\n",
       "      <td>61874.000000</td>\n",
       "      <td>61874.00000</td>\n",
       "      <td>61874.000000</td>\n",
       "      <td>61874.000000</td>\n",
       "      <td>61874.000000</td>\n",
       "      <td>61874.000000</td>\n",
       "      <td>61874.000000</td>\n",
       "      <td>61874.000000</td>\n",
       "      <td>61874.000000</td>\n",
       "      <td>61874.000000</td>\n",
       "    </tr>\n",
       "    <tr>\n",
       "      <th>mean</th>\n",
       "      <td>33783.843779</td>\n",
       "      <td>28.300153</td>\n",
       "      <td>0.437163</td>\n",
       "      <td>0.067540</td>\n",
       "      <td>0.076042</td>\n",
       "      <td>3.430666</td>\n",
       "      <td>3.941559</td>\n",
       "      <td>0.139558</td>\n",
       "      <td>0.535346</td>\n",
       "      <td>64.663510</td>\n",
       "      <td>0.71665</td>\n",
       "      <td>0.225038</td>\n",
       "      <td>0.776530</td>\n",
       "      <td>2.609901</td>\n",
       "      <td>7.102267</td>\n",
       "      <td>0.132624</td>\n",
       "      <td>0.037092</td>\n",
       "      <td>0.094337</td>\n",
       "      <td>0.086094</td>\n",
       "    </tr>\n",
       "    <tr>\n",
       "      <th>std</th>\n",
       "      <td>19500.423273</td>\n",
       "      <td>6.211283</td>\n",
       "      <td>0.496040</td>\n",
       "      <td>0.250958</td>\n",
       "      <td>0.265067</td>\n",
       "      <td>8.100786</td>\n",
       "      <td>8.117292</td>\n",
       "      <td>0.346530</td>\n",
       "      <td>0.574922</td>\n",
       "      <td>7.464508</td>\n",
       "      <td>1.45877</td>\n",
       "      <td>0.510276</td>\n",
       "      <td>0.416574</td>\n",
       "      <td>1.025881</td>\n",
       "      <td>1.408602</td>\n",
       "      <td>0.339171</td>\n",
       "      <td>0.188988</td>\n",
       "      <td>0.292299</td>\n",
       "      <td>0.280506</td>\n",
       "    </tr>\n",
       "    <tr>\n",
       "      <th>min</th>\n",
       "      <td>0.000000</td>\n",
       "      <td>12.200000</td>\n",
       "      <td>0.000000</td>\n",
       "      <td>0.000000</td>\n",
       "      <td>0.000000</td>\n",
       "      <td>0.000000</td>\n",
       "      <td>0.000000</td>\n",
       "      <td>0.000000</td>\n",
       "      <td>0.000000</td>\n",
       "      <td>50.000000</td>\n",
       "      <td>0.00000</td>\n",
       "      <td>0.000000</td>\n",
       "      <td>0.000000</td>\n",
       "      <td>0.000000</td>\n",
       "      <td>1.000000</td>\n",
       "      <td>0.000000</td>\n",
       "      <td>0.000000</td>\n",
       "      <td>0.000000</td>\n",
       "      <td>0.000000</td>\n",
       "    </tr>\n",
       "    <tr>\n",
       "      <th>25%</th>\n",
       "      <td>16885.250000</td>\n",
       "      <td>24.210000</td>\n",
       "      <td>0.000000</td>\n",
       "      <td>0.000000</td>\n",
       "      <td>0.000000</td>\n",
       "      <td>0.000000</td>\n",
       "      <td>0.000000</td>\n",
       "      <td>0.000000</td>\n",
       "      <td>0.000000</td>\n",
       "      <td>60.000000</td>\n",
       "      <td>0.00000</td>\n",
       "      <td>0.000000</td>\n",
       "      <td>1.000000</td>\n",
       "      <td>2.000000</td>\n",
       "      <td>6.000000</td>\n",
       "      <td>0.000000</td>\n",
       "      <td>0.000000</td>\n",
       "      <td>0.000000</td>\n",
       "      <td>0.000000</td>\n",
       "    </tr>\n",
       "    <tr>\n",
       "      <th>50%</th>\n",
       "      <td>33829.500000</td>\n",
       "      <td>27.440000</td>\n",
       "      <td>0.000000</td>\n",
       "      <td>0.000000</td>\n",
       "      <td>0.000000</td>\n",
       "      <td>0.000000</td>\n",
       "      <td>0.000000</td>\n",
       "      <td>0.000000</td>\n",
       "      <td>0.000000</td>\n",
       "      <td>65.000000</td>\n",
       "      <td>0.00000</td>\n",
       "      <td>0.000000</td>\n",
       "      <td>1.000000</td>\n",
       "      <td>3.000000</td>\n",
       "      <td>7.000000</td>\n",
       "      <td>0.000000</td>\n",
       "      <td>0.000000</td>\n",
       "      <td>0.000000</td>\n",
       "      <td>0.000000</td>\n",
       "    </tr>\n",
       "    <tr>\n",
       "      <th>75%</th>\n",
       "      <td>50690.750000</td>\n",
       "      <td>31.190000</td>\n",
       "      <td>1.000000</td>\n",
       "      <td>0.000000</td>\n",
       "      <td>0.000000</td>\n",
       "      <td>2.000000</td>\n",
       "      <td>3.000000</td>\n",
       "      <td>0.000000</td>\n",
       "      <td>1.000000</td>\n",
       "      <td>65.000000</td>\n",
       "      <td>1.00000</td>\n",
       "      <td>0.000000</td>\n",
       "      <td>1.000000</td>\n",
       "      <td>3.000000</td>\n",
       "      <td>8.000000</td>\n",
       "      <td>0.000000</td>\n",
       "      <td>0.000000</td>\n",
       "      <td>0.000000</td>\n",
       "      <td>0.000000</td>\n",
       "    </tr>\n",
       "    <tr>\n",
       "      <th>max</th>\n",
       "      <td>67499.000000</td>\n",
       "      <td>86.800000</td>\n",
       "      <td>1.000000</td>\n",
       "      <td>1.000000</td>\n",
       "      <td>1.000000</td>\n",
       "      <td>30.000000</td>\n",
       "      <td>30.000000</td>\n",
       "      <td>1.000000</td>\n",
       "      <td>2.000000</td>\n",
       "      <td>80.000000</td>\n",
       "      <td>5.00000</td>\n",
       "      <td>3.000000</td>\n",
       "      <td>1.000000</td>\n",
       "      <td>4.000000</td>\n",
       "      <td>24.000000</td>\n",
       "      <td>1.000000</td>\n",
       "      <td>1.000000</td>\n",
       "      <td>1.000000</td>\n",
       "      <td>1.000000</td>\n",
       "    </tr>\n",
       "  </tbody>\n",
       "</table>\n",
       "</div>"
      ],
      "text/plain": [
       "              Index           BMI       Smoking  AlcoholDrinking  \\\n",
       "count  61874.000000  61874.000000  61874.000000     61874.000000   \n",
       "mean   33783.843779     28.300153      0.437163         0.067540   \n",
       "std    19500.423273      6.211283      0.496040         0.250958   \n",
       "min        0.000000     12.200000      0.000000         0.000000   \n",
       "25%    16885.250000     24.210000      0.000000         0.000000   \n",
       "50%    33829.500000     27.440000      0.000000         0.000000   \n",
       "75%    50690.750000     31.190000      1.000000         0.000000   \n",
       "max    67499.000000     86.800000      1.000000         1.000000   \n",
       "\n",
       "             Stroke  PhysicalHealth  MentalHealth   DiffWalking           Sex  \\\n",
       "count  61874.000000    61874.000000  61874.000000  61874.000000  61874.000000   \n",
       "mean       0.076042        3.430666      3.941559      0.139558      0.535346   \n",
       "std        0.265067        8.100786      8.117292      0.346530      0.574922   \n",
       "min        0.000000        0.000000      0.000000      0.000000      0.000000   \n",
       "25%        0.000000        0.000000      0.000000      0.000000      0.000000   \n",
       "50%        0.000000        0.000000      0.000000      0.000000      0.000000   \n",
       "75%        0.000000        2.000000      3.000000      0.000000      1.000000   \n",
       "max        1.000000       30.000000     30.000000      1.000000      2.000000   \n",
       "\n",
       "        AgeCategory         Race      Diabetic  PhysicalActivity  \\\n",
       "count  61874.000000  61874.00000  61874.000000      61874.000000   \n",
       "mean      64.663510      0.71665      0.225038          0.776530   \n",
       "std        7.464508      1.45877      0.510276          0.416574   \n",
       "min       50.000000      0.00000      0.000000          0.000000   \n",
       "25%       60.000000      0.00000      0.000000          1.000000   \n",
       "50%       65.000000      0.00000      0.000000          1.000000   \n",
       "75%       65.000000      1.00000      0.000000          1.000000   \n",
       "max       80.000000      5.00000      3.000000          1.000000   \n",
       "\n",
       "          GenHealth     SleepTime        Asthma  KidneyDisease    SkinCancer  \\\n",
       "count  61874.000000  61874.000000  61874.000000   61874.000000  61874.000000   \n",
       "mean       2.609901      7.102267      0.132624       0.037092      0.094337   \n",
       "std        1.025881      1.408602      0.339171       0.188988      0.292299   \n",
       "min        0.000000      1.000000      0.000000       0.000000      0.000000   \n",
       "25%        2.000000      6.000000      0.000000       0.000000      0.000000   \n",
       "50%        3.000000      7.000000      0.000000       0.000000      0.000000   \n",
       "75%        3.000000      8.000000      0.000000       0.000000      0.000000   \n",
       "max        4.000000     24.000000      1.000000       1.000000      1.000000   \n",
       "\n",
       "       HeartDisease  \n",
       "count  61874.000000  \n",
       "mean       0.086094  \n",
       "std        0.280506  \n",
       "min        0.000000  \n",
       "25%        0.000000  \n",
       "50%        0.000000  \n",
       "75%        0.000000  \n",
       "max        1.000000  "
      ]
     },
     "execution_count": 109,
     "metadata": {},
     "output_type": "execute_result"
    }
   ],
   "source": [
    "data.describe()"
   ]
  },
  {
   "cell_type": "code",
   "execution_count": 110,
   "metadata": {},
   "outputs": [
    {
     "data": {
      "text/plain": [
       "Index                 int64\n",
       "BMI                 float64\n",
       "Smoking               int64\n",
       "AlcoholDrinking       int64\n",
       "Stroke                int64\n",
       "PhysicalHealth        int64\n",
       "MentalHealth          int64\n",
       "DiffWalking           int64\n",
       "Sex                   int64\n",
       "AgeCategory           int64\n",
       "Race                  int64\n",
       "Diabetic              int64\n",
       "PhysicalActivity      int64\n",
       "GenHealth             int64\n",
       "SleepTime           float64\n",
       "Asthma                int64\n",
       "KidneyDisease         int64\n",
       "SkinCancer            int64\n",
       "HeartDisease          int64\n",
       "dtype: object"
      ]
     },
     "execution_count": 110,
     "metadata": {},
     "output_type": "execute_result"
    }
   ],
   "source": [
    "data.dtypes"
   ]
  },
  {
   "cell_type": "code",
   "execution_count": 111,
   "metadata": {},
   "outputs": [
    {
     "data": {
      "text/plain": [
       "Index               0.0\n",
       "BMI                 0.0\n",
       "Smoking             0.0\n",
       "AlcoholDrinking     0.0\n",
       "Stroke              0.0\n",
       "PhysicalHealth      0.0\n",
       "MentalHealth        0.0\n",
       "DiffWalking         0.0\n",
       "Sex                 0.0\n",
       "AgeCategory         0.0\n",
       "Race                0.0\n",
       "Diabetic            0.0\n",
       "PhysicalActivity    0.0\n",
       "GenHealth           0.0\n",
       "SleepTime           0.0\n",
       "Asthma              0.0\n",
       "KidneyDisease       0.0\n",
       "SkinCancer          0.0\n",
       "HeartDisease        0.0\n",
       "dtype: float64"
      ]
     },
     "execution_count": 111,
     "metadata": {},
     "output_type": "execute_result"
    }
   ],
   "source": [
    "data.isnull().mean()"
   ]
  },
  {
   "cell_type": "markdown",
   "metadata": {},
   "source": [
    "Como los datos ya fueron preprocesados podemos empezar con el analisis para implementar el modelo de SVM"
   ]
  },
  {
   "cell_type": "code",
   "execution_count": 112,
   "metadata": {},
   "outputs": [
    {
     "data": {
      "text/plain": [
       "<AxesSubplot:title={'center':'# personas que han reportado CHD o MI'}, xlabel='HeartDisease', ylabel='count'>"
      ]
     },
     "execution_count": 112,
     "metadata": {},
     "output_type": "execute_result"
    },
    {
     "data": {
      "image/png": "[encoded data removed]",
      "text/plain": [
       "<Figure size 720x720 with 1 Axes>"
      ]
     },
     "metadata": {
      "needs_background": "light"
     },
     "output_type": "display_data"
    }
   ],
   "source": [
    "fig = plt.figure(figsize=(10, 10))\n",
    "plt.title('# personas que han reportado CHD o MI')\n",
    "sns.countplot(x='HeartDisease', data=data)\n"
   ]
  },
  {
   "cell_type": "markdown",
   "metadata": {},
   "source": [
    "<b>Seleccionamos las variables que vamos a utilizar para el modelo </b><br>\n",
    "Como en el preprocesamiento se transformaron las variables categoricas a numericas, podemos utilizarlas directamente en el modelo"
   ]
  },
  {
   "cell_type": "code",
   "execution_count": 113,
   "metadata": {},
   "outputs": [
    {
     "name": "stdout",
     "output_type": "stream",
     "text": [
      "['BMI', 'Smoking', 'AlcoholDrinking', 'Stroke', 'PhysicalHealth', 'MentalHealth', 'DiffWalking', 'Sex', 'AgeCategory', 'Race', 'Diabetic', 'PhysicalActivity', 'GenHealth', 'SleepTime', 'Asthma', 'KidneyDisease', 'SkinCancer']\n"
     ]
    }
   ],
   "source": [
    "features = list(data.columns)\n",
    "features.remove('Index')\n",
    "features.remove('HeartDisease')\n",
    "print(features)"
   ]
  },
  {
   "cell_type": "markdown",
   "metadata": {},
   "source": [
    "Generamos el conjunto de entrenamiento y de prueba"
   ]
  },
  {
   "cell_type": "code",
   "execution_count": 114,
   "metadata": {},
   "outputs": [],
   "source": [
    "x_train, x_test, y_train, y_test = train_test_split(data[features], data['HeartDisease'], test_size=0.2, random_state=28)"
   ]
  },
  {
   "cell_type": "code",
   "execution_count": 115,
   "metadata": {},
   "outputs": [
    {
     "data": {
      "text/plain": [
       "<AxesSubplot:title={'center':'Distribución de los datos de prueba'}, xlabel='HeartDisease', ylabel='count'>"
      ]
     },
     "execution_count": 115,
     "metadata": {},
     "output_type": "execute_result"
    },
    {
     "data": {
      "image/png": "[encoded data removed]",
      "text/plain": [
       "<Figure size 1080x360 with 2 Axes>"
      ]
     },
     "metadata": {
      "needs_background": "light"
     },
     "output_type": "display_data"
    }
   ],
   "source": [
    "fig, ax = plt.subplots(1, 2, figsize=(15, 5))\n",
    "ax[0].set_title('Distribución de los datos de entrenamiento')\n",
    "sns.countplot(x=y_train, ax=ax[0])\n",
    "ax[1].set_title('Distribución de los datos de prueba')\n",
    "sns.countplot(x=y_test, ax=ax[1])"
   ]
  },
  {
   "cell_type": "code",
   "execution_count": 116,
   "metadata": {},
   "outputs": [],
   "source": [
    "modeloReferencia = RandomForestClassifier(random_state=14, n_jobs=-1, n_estimators=10, max_depth=10, min_samples_leaf=4, min_samples_split=4)"
   ]
  },
  {
   "cell_type": "code",
   "execution_count": 117,
   "metadata": {},
   "outputs": [
    {
     "data": {
      "text/html": [
       "<style>#sk-container-id-7 {color: black;background-color: white;}#sk-container-id-7 pre{padding: 0;}#sk-container-id-7 div.sk-toggleable {background-color: white;}#sk-container-id-7 label.sk-toggleable__label {cursor: pointer;display: block;width: 100%;margin-bottom: 0;padding: 0.3em;box-sizing: border-box;text-align: center;}#sk-container-id-7 label.sk-toggleable__label-arrow:before {content: \"▸\";float: left;margin-right: 0.25em;color: #696969;}#sk-container-id-7 label.sk-toggleable__label-arrow:hover:before {color: black;}#sk-container-id-7 div.sk-estimator:hover label.sk-toggleable__label-arrow:before {color: black;}#sk-container-id-7 div.sk-toggleable__content {max-height: 0;max-width: 0;overflow: hidden;text-align: left;background-color: #f0f8ff;}#sk-container-id-7 div.sk-toggleable__content pre {margin: 0.2em;color: black;border-radius: 0.25em;background-color: #f0f8ff;}#sk-container-id-7 input.sk-toggleable__control:checked~div.sk-toggleable__content {max-height: 200px;max-width: 100%;overflow: auto;}#sk-container-id-7 input.sk-toggleable__control:checked~label.sk-toggleable__label-arrow:before {content: \"▾\";}#sk-container-id-7 div.sk-estimator input.sk-toggleable__control:checked~label.sk-toggleable__label {background-color: #d4ebff;}#sk-container-id-7 div.sk-label input.sk-toggleable__control:checked~label.sk-toggleable__label {background-color: #d4ebff;}#sk-container-id-7 input.sk-hidden--visually {border: 0;clip: rect(1px 1px 1px 1px);clip: rect(1px, 1px, 1px, 1px);height: 1px;margin: -1px;overflow: hidden;padding: 0;position: absolute;width: 1px;}#sk-container-id-7 div.sk-estimator {font-family: monospace;background-color: #f0f8ff;border: 1px dotted black;border-radius: 0.25em;box-sizing: border-box;margin-bottom: 0.5em;}#sk-container-id-7 div.sk-estimator:hover {background-color: #d4ebff;}#sk-container-id-7 div.sk-parallel-item::after {content: \"\";width: 100%;border-bottom: 1px solid gray;flex-grow: 1;}#sk-container-id-7 div.sk-label:hover label.sk-toggleable__label {background-color: #d4ebff;}#sk-container-id-7 div.sk-serial::before {content: \"\";position: absolute;border-left: 1px solid gray;box-sizing: border-box;top: 0;bottom: 0;left: 50%;z-index: 0;}#sk-container-id-7 div.sk-serial {display: flex;flex-direction: column;align-items: center;background-color: white;padding-right: 0.2em;padding-left: 0.2em;position: relative;}#sk-container-id-7 div.sk-item {position: relative;z-index: 1;}#sk-container-id-7 div.sk-parallel {display: flex;align-items: stretch;justify-content: center;background-color: white;position: relative;}#sk-container-id-7 div.sk-item::before, #sk-container-id-7 div.sk-parallel-item::before {content: \"\";position: absolute;border-left: 1px solid gray;box-sizing: border-box;top: 0;bottom: 0;left: 50%;z-index: -1;}#sk-container-id-7 div.sk-parallel-item {display: flex;flex-direction: column;z-index: 1;position: relative;background-color: white;}#sk-container-id-7 div.sk-parallel-item:first-child::after {align-self: flex-end;width: 50%;}#sk-container-id-7 div.sk-parallel-item:last-child::after {align-self: flex-start;width: 50%;}#sk-container-id-7 div.sk-parallel-item:only-child::after {width: 0;}#sk-container-id-7 div.sk-dashed-wrapped {border: 1px dashed gray;margin: 0 0.4em 0.5em 0.4em;box-sizing: border-box;padding-bottom: 0.4em;background-color: white;}#sk-container-id-7 div.sk-label label {font-family: monospace;font-weight: bold;display: inline-block;line-height: 1.2em;}#sk-container-id-7 div.sk-label-container {text-align: center;}#sk-container-id-7 div.sk-container {/* jupyter's `normalize.less` sets `[hidden] { display: none; }` but bootstrap.min.css set `[hidden] { display: none !important; }` so we also need the `!important` here to be able to override the default hidden behavior on the sphinx rendered scikit-learn.org. See: https://github.com/scikit-learn/scikit-learn/issues/21755 */display: inline-block !important;position: relative;}#sk-container-id-7 div.sk-text-repr-fallback {display: none;}</style><div id=\"sk-container-id-7\" class=\"sk-top-container\"><div class=\"sk-text-repr-fallback\"><pre>RandomForestClassifier(max_depth=10, n_estimators=10, n_jobs=-1,\n",
       "                       random_state=14)</pre><b>In a Jupyter environment, please rerun this cell to show the HTML representation or trust the notebook. <br />On GitHub, the HTML representation is unable to render, please try loading this page with nbviewer.org.</b></div><div class=\"sk-container\" hidden><div class=\"sk-item\"><div class=\"sk-estimator sk-toggleable\"><input class=\"sk-toggleable__control sk-hidden--visually\" id=\"sk-estimator-id-13\" type=\"checkbox\" checked><label for=\"sk-estimator-id-13\" class=\"sk-toggleable__label sk-toggleable__label-arrow\">RandomForestClassifier</label><div class=\"sk-toggleable__content\"><pre>RandomForestClassifier(max_depth=10, n_estimators=10, n_jobs=-1,\n",
       "                       random_state=14)</pre></div></div></div></div></div>"
      ],
      "text/plain": [
       "RandomForestClassifier(max_depth=10, n_estimators=10, n_jobs=-1,\n",
       "                       random_state=14)"
      ]
     },
     "execution_count": 117,
     "metadata": {},
     "output_type": "execute_result"
    }
   ],
   "source": [
    "modeloReferencia.fit(x_train, y_train)"
   ]
  },
  {
   "cell_type": "code",
   "execution_count": 118,
   "metadata": {},
   "outputs": [],
   "source": [
    "pred_train = modeloReferencia.predict(x_train)\n",
    "pred_test = modeloReferencia.predict(x_test)\n"
   ]
  },
  {
   "cell_type": "code",
   "execution_count": 119,
   "metadata": {},
   "outputs": [
    {
     "data": {
      "image/png": "[encoded data removed]",
      "text/plain": [
       "<Figure size 1080x864 with 8 Axes>"
      ]
     },
     "metadata": {
      "needs_background": "light"
     },
     "output_type": "display_data"
    }
   ],
   "source": [
    "cm_train = confusion_matrix(y_train, pred_train)\n",
    "cm_test = confusion_matrix(y_test, pred_test)\n",
    "cm_train_norm = confusion_matrix(y_train, pred_train, normalize='true')\n",
    "cm_test_norm = confusion_matrix(y_test, pred_test, normalize='true')\n",
    "\n",
    "fig, ((ax1, ax2), (ax3, ax4)) = plt.subplots(2, 2, figsize=(15, 12))\n",
    "ax1.set_title('Matriz de entrenamiento')\n",
    "ax2.set_title('Matriz de prueba')\n",
    "ax3.set_title('Matriz de entrenamiento normalizada')\n",
    "ax4.set_title('Matriz de prueba normalizada')\n",
    "disp1 = ConfusionMatrixDisplay(confusion_matrix=cm_train, display_labels=['No CHD', 'CHD']).plot(ax=ax1)\n",
    "disp2 = ConfusionMatrixDisplay(confusion_matrix=cm_test, display_labels=['No CHD', 'CHD']).plot(ax=ax2)\n",
    "disp3 = ConfusionMatrixDisplay(confusion_matrix=cm_train_norm, display_labels=['No CHD', 'CHD']).plot(ax=ax3)\n",
    "disp4 = ConfusionMatrixDisplay(confusion_matrix=cm_test_norm, display_labels=['No CHD', 'CHD']).plot(ax=ax4)\n",
    "\n",
    "plt.show()"
   ]
  },
  {
   "cell_type": "code",
   "execution_count": 120,
   "metadata": {},
   "outputs": [
    {
     "data": {
      "text/html": [
       "<div>\n",
       "<style scoped>\n",
       "    .dataframe tbody tr th:only-of-type {\n",
       "        vertical-align: middle;\n",
       "    }\n",
       "\n",
       "    .dataframe tbody tr th {\n",
       "        vertical-align: top;\n",
       "    }\n",
       "\n",
       "    .dataframe thead th {\n",
       "        text-align: right;\n",
       "    }\n",
       "</style>\n",
       "<table border=\"1\" class=\"dataframe\">\n",
       "  <thead>\n",
       "    <tr style=\"text-align: right;\">\n",
       "      <th></th>\n",
       "      <th>Train</th>\n",
       "      <th>Test</th>\n",
       "    </tr>\n",
       "  </thead>\n",
       "  <tbody>\n",
       "    <tr>\n",
       "      <th>Accuracy</th>\n",
       "      <td>0.924524</td>\n",
       "      <td>0.913293</td>\n",
       "    </tr>\n",
       "    <tr>\n",
       "      <th>Precision</th>\n",
       "      <td>0.919129</td>\n",
       "      <td>0.407080</td>\n",
       "    </tr>\n",
       "    <tr>\n",
       "      <th>Recall</th>\n",
       "      <td>0.138246</td>\n",
       "      <td>0.043726</td>\n",
       "    </tr>\n",
       "    <tr>\n",
       "      <th>F1</th>\n",
       "      <td>0.240342</td>\n",
       "      <td>0.078970</td>\n",
       "    </tr>\n",
       "  </tbody>\n",
       "</table>\n",
       "</div>"
      ],
      "text/plain": [
       "              Train      Test\n",
       "Accuracy   0.924524  0.913293\n",
       "Precision  0.919129  0.407080\n",
       "Recall     0.138246  0.043726\n",
       "F1         0.240342  0.078970"
      ]
     },
     "execution_count": 120,
     "metadata": {},
     "output_type": "execute_result"
    }
   ],
   "source": [
    "pd.DataFrame([{'Train': accuracy_score(y_train, pred_train), 'Test': accuracy_score(y_test, pred_test)},\n",
    "              {'Train': precision_score(y_train, pred_train), 'Test': precision_score(y_test, pred_test)}, \n",
    "              {'Train': recall_score(y_train, pred_train), 'Test': recall_score(y_test, pred_test)}, \n",
    "              {'Train': f1_score(y_train, pred_train), 'Test': f1_score(y_test, pred_test)}\n",
    "              ], index=['Accuracy', 'Precision', 'Recall', 'F1'])"
   ]
  },
  {
   "cell_type": "code",
   "execution_count": 121,
   "metadata": {},
   "outputs": [
    {
     "data": {
      "text/plain": [
       "<AxesSubplot:ylabel='Feature'>"
      ]
     },
     "execution_count": 121,
     "metadata": {},
     "output_type": "execute_result"
    },
    {
     "data": {
      "image/png": "[encoded data removed]",
      "text/plain": [
       "<Figure size 1080x360 with 1 Axes>"
      ]
     },
     "metadata": {
      "needs_background": "light"
     },
     "output_type": "display_data"
    }
   ],
   "source": [
    "importancia = pd.DataFrame({'Feature': features, 'Importancia': modeloReferencia.feature_importances_})\n",
    "importancia.columns = ['Feature', 'Importancia']\n",
    "importancia = importancia.sort_values(by='Importancia', ascending=True)\n",
    "importancia.plot.barh(x='Feature', y='Importancia', figsize=(15, 5))"
   ]
  },
  {
   "cell_type": "markdown",
   "metadata": {},
   "source": [
    "Ahora probaremos con multiples parametros para encontrar el mejor modelo"
   ]
  },
  {
   "cell_type": "code",
   "execution_count": 122,
   "metadata": {},
   "outputs": [],
   "source": [
    "parametros = {'n_estimators': [10, 20, 30, 40, 50, 60, 70, 80, 90, 100, 200],\n",
    "                'max_depth': [2, 3, 4, 5, 6, 7, 8, 9, 10, 20, 30],\n",
    "                'min_samples_split': [2, 3, 4, 5, 6, 7, 8, 9, 10, 20, 30],\n",
    "                'min_samples_leaf': [1, 2, 3, 4, 5, 6, 7, 8, 9, 10, 20, 30],\n",
    "                'max_features': ['auto', 'sqrt', 'log2']}\n"
   ]
  },
  {
   "cell_type": "code",
   "execution_count": 123,
   "metadata": {},
   "outputs": [],
   "source": [
    "mejor_fit = RandomizedSearchCV(estimator=RandomForestClassifier(random_state=14, n_jobs=-1), \n",
    "                                param_distributions=parametros,\n",
    "                                n_iter=500,\n",
    "                                cv=3,\n",
    "                                scoring=['precision', 'recall', 'f1'],\n",
    "                                refit='f1',\n",
    "                                n_jobs=-1,\n",
    "                                verbose=3,\n",
    "                                random_state=14)"
   ]
  },
  {
   "cell_type": "code",
   "execution_count": 124,
   "metadata": {},
   "outputs": [
    {
     "name": "stdout",
     "output_type": "stream",
     "text": [
      "Fitting 3 folds for each of 500 candidates, totalling 1500 fits\n"
     ]
    },
    {
     "data": {
      "text/html": [
       "<style>#sk-container-id-8 {color: black;background-color: white;}#sk-container-id-8 pre{padding: 0;}#sk-container-id-8 div.sk-toggleable {background-color: white;}#sk-container-id-8 label.sk-toggleable__label {cursor: pointer;display: block;width: 100%;margin-bottom: 0;padding: 0.3em;box-sizing: border-box;text-align: center;}#sk-container-id-8 label.sk-toggleable__label-arrow:before {content: \"▸\";float: left;margin-right: 0.25em;color: #696969;}#sk-container-id-8 label.sk-toggleable__label-arrow:hover:before {color: black;}#sk-container-id-8 div.sk-estimator:hover label.sk-toggleable__label-arrow:before {color: black;}#sk-container-id-8 div.sk-toggleable__content {max-height: 0;max-width: 0;overflow: hidden;text-align: left;background-color: #f0f8ff;}#sk-container-id-8 div.sk-toggleable__content pre {margin: 0.2em;color: black;border-radius: 0.25em;background-color: #f0f8ff;}#sk-container-id-8 input.sk-toggleable__control:checked~div.sk-toggleable__content {max-height: 200px;max-width: 100%;overflow: auto;}#sk-container-id-8 input.sk-toggleable__control:checked~label.sk-toggleable__label-arrow:before {content: \"▾\";}#sk-container-id-8 div.sk-estimator input.sk-toggleable__control:checked~label.sk-toggleable__label {background-color: #d4ebff;}#sk-container-id-8 div.sk-label input.sk-toggleable__control:checked~label.sk-toggleable__label {background-color: #d4ebff;}#sk-container-id-8 input.sk-hidden--visually {border: 0;clip: rect(1px 1px 1px 1px);clip: rect(1px, 1px, 1px, 1px);height: 1px;margin: -1px;overflow: hidden;padding: 0;position: absolute;width: 1px;}#sk-container-id-8 div.sk-estimator {font-family: monospace;background-color: #f0f8ff;border: 1px dotted black;border-radius: 0.25em;box-sizing: border-box;margin-bottom: 0.5em;}#sk-container-id-8 div.sk-estimator:hover {background-color: #d4ebff;}#sk-container-id-8 div.sk-parallel-item::after {content: \"\";width: 100%;border-bottom: 1px solid gray;flex-grow: 1;}#sk-container-id-8 div.sk-label:hover label.sk-toggleable__label {background-color: #d4ebff;}#sk-container-id-8 div.sk-serial::before {content: \"\";position: absolute;border-left: 1px solid gray;box-sizing: border-box;top: 0;bottom: 0;left: 50%;z-index: 0;}#sk-container-id-8 div.sk-serial {display: flex;flex-direction: column;align-items: center;background-color: white;padding-right: 0.2em;padding-left: 0.2em;position: relative;}#sk-container-id-8 div.sk-item {position: relative;z-index: 1;}#sk-container-id-8 div.sk-parallel {display: flex;align-items: stretch;justify-content: center;background-color: white;position: relative;}#sk-container-id-8 div.sk-item::before, #sk-container-id-8 div.sk-parallel-item::before {content: \"\";position: absolute;border-left: 1px solid gray;box-sizing: border-box;top: 0;bottom: 0;left: 50%;z-index: -1;}#sk-container-id-8 div.sk-parallel-item {display: flex;flex-direction: column;z-index: 1;position: relative;background-color: white;}#sk-container-id-8 div.sk-parallel-item:first-child::after {align-self: flex-end;width: 50%;}#sk-container-id-8 div.sk-parallel-item:last-child::after {align-self: flex-start;width: 50%;}#sk-container-id-8 div.sk-parallel-item:only-child::after {width: 0;}#sk-container-id-8 div.sk-dashed-wrapped {border: 1px dashed gray;margin: 0 0.4em 0.5em 0.4em;box-sizing: border-box;padding-bottom: 0.4em;background-color: white;}#sk-container-id-8 div.sk-label label {font-family: monospace;font-weight: bold;display: inline-block;line-height: 1.2em;}#sk-container-id-8 div.sk-label-container {text-align: center;}#sk-container-id-8 div.sk-container {/* jupyter's `normalize.less` sets `[hidden] { display: none; }` but bootstrap.min.css set `[hidden] { display: none !important; }` so we also need the `!important` here to be able to override the default hidden behavior on the sphinx rendered scikit-learn.org. See: https://github.com/scikit-learn/scikit-learn/issues/21755 */display: inline-block !important;position: relative;}#sk-container-id-8 div.sk-text-repr-fallback {display: none;}</style><div id=\"sk-container-id-8\" class=\"sk-top-container\"><div class=\"sk-text-repr-fallback\"><pre>RandomizedSearchCV(cv=3,\n",
       "                   estimator=RandomForestClassifier(n_jobs=-1, random_state=14),\n",
       "                   n_iter=500, n_jobs=-1,\n",
       "                   param_distributions={&#x27;max_depth&#x27;: [2, 3, 4, 5, 6, 7, 8, 9,\n",
       "                                                      10, 20, 30],\n",
       "                                        &#x27;max_features&#x27;: [&#x27;auto&#x27;, &#x27;sqrt&#x27;,\n",
       "                                                         &#x27;log2&#x27;],\n",
       "                                        &#x27;min_samples_leaf&#x27;: [1, 2, 3, 4, 5, 6,\n",
       "                                                             7, 8, 9, 10, 20,\n",
       "                                                             30],\n",
       "                                        &#x27;min_samples_split&#x27;: [2, 3, 4, 5, 6, 7,\n",
       "                                                              8, 9, 10, 20,\n",
       "                                                              30],\n",
       "                                        &#x27;n_estimators&#x27;: [10, 20, 30, 40, 50, 60,\n",
       "                                                         70, 80, 90, 100,\n",
       "                                                         200]},\n",
       "                   random_state=14, refit=&#x27;f1&#x27;,\n",
       "                   scoring=[&#x27;precision&#x27;, &#x27;recall&#x27;, &#x27;f1&#x27;], verbose=3)</pre><b>In a Jupyter environment, please rerun this cell to show the HTML representation or trust the notebook. <br />On GitHub, the HTML representation is unable to render, please try loading this page with nbviewer.org.</b></div><div class=\"sk-container\" hidden><div class=\"sk-item sk-dashed-wrapped\"><div class=\"sk-label-container\"><div class=\"sk-label sk-toggleable\"><input class=\"sk-toggleable__control sk-hidden--visually\" id=\"sk-estimator-id-14\" type=\"checkbox\" ><label for=\"sk-estimator-id-14\" class=\"sk-toggleable__label sk-toggleable__label-arrow\">RandomizedSearchCV</label><div class=\"sk-toggleable__content\"><pre>RandomizedSearchCV(cv=3,\n",
       "                   estimator=RandomForestClassifier(n_jobs=-1, random_state=14),\n",
       "                   n_iter=500, n_jobs=-1,\n",
       "                   param_distributions={&#x27;max_depth&#x27;: [2, 3, 4, 5, 6, 7, 8, 9,\n",
       "                                                      10, 20, 30],\n",
       "                                        &#x27;max_features&#x27;: [&#x27;auto&#x27;, &#x27;sqrt&#x27;,\n",
       "                                                         &#x27;log2&#x27;],\n",
       "                                        &#x27;min_samples_leaf&#x27;: [1, 2, 3, 4, 5, 6,\n",
       "                                                             7, 8, 9, 10, 20,\n",
       "                                                             30],\n",
       "                                        &#x27;min_samples_split&#x27;: [2, 3, 4, 5, 6, 7,\n",
       "                                                              8, 9, 10, 20,\n",
       "                                                              30],\n",
       "                                        &#x27;n_estimators&#x27;: [10, 20, 30, 40, 50, 60,\n",
       "                                                         70, 80, 90, 100,\n",
       "                                                         200]},\n",
       "                   random_state=14, refit=&#x27;f1&#x27;,\n",
       "                   scoring=[&#x27;precision&#x27;, &#x27;recall&#x27;, &#x27;f1&#x27;], verbose=3)</pre></div></div></div><div class=\"sk-parallel\"><div class=\"sk-parallel-item\"><div class=\"sk-item\"><div class=\"sk-label-container\"><div class=\"sk-label sk-toggleable\"><input class=\"sk-toggleable__control sk-hidden--visually\" id=\"sk-estimator-id-15\" type=\"checkbox\" ><label for=\"sk-estimator-id-15\" class=\"sk-toggleable__label sk-toggleable__label-arrow\">estimator: RandomForestClassifier</label><div class=\"sk-toggleable__content\"><pre>RandomForestClassifier(n_jobs=-1, random_state=14)</pre></div></div></div><div class=\"sk-serial\"><div class=\"sk-item\"><div class=\"sk-estimator sk-toggleable\"><input class=\"sk-toggleable__control sk-hidden--visually\" id=\"sk-estimator-id-16\" type=\"checkbox\" ><label for=\"sk-estimator-id-16\" class=\"sk-toggleable__label sk-toggleable__label-arrow\">RandomForestClassifier</label><div class=\"sk-toggleable__content\"><pre>RandomForestClassifier(n_jobs=-1, random_state=14)</pre></div></div></div></div></div></div></div></div></div></div>"
      ],
      "text/plain": [
       "RandomizedSearchCV(cv=3,\n",
       "                   estimator=RandomForestClassifier(n_jobs=-1, random_state=14),\n",
       "                   n_iter=500, n_jobs=-1,\n",
       "                   param_distributions={'max_depth': [2, 3, 4, 5, 6, 7, 8, 9,\n",
       "                                                      10, 20, 30],\n",
       "                                        'max_features': ['auto', 'sqrt',\n",
       "                                                         'log2'],\n",
       "                                        'min_samples_leaf': [1, 2, 3, 4, 5, 6,\n",
       "                                                             7, 8, 9, 10, 20,\n",
       "                                                             30],\n",
       "                                        'min_samples_split': [2, 3, 4, 5, 6, 7,\n",
       "                                                              8, 9, 10, 20,\n",
       "                                                              30],\n",
       "                                        'n_estimators': [10, 20, 30, 40, 50, 60,\n",
       "                                                         70, 80, 90, 100,\n",
       "                                                         200]},\n",
       "                   random_state=14, refit='f1',\n",
       "                   scoring=['precision', 'recall', 'f1'], verbose=3)"
      ]
     },
     "execution_count": 124,
     "metadata": {},
     "output_type": "execute_result"
    }
   ],
   "source": [
    "mejor_fit.fit(x_train, y_train)"
   ]
  },
  {
   "cell_type": "code",
   "execution_count": 125,
   "metadata": {},
   "outputs": [
    {
     "data": {
      "text/html": [
       "<div>\n",
       "<style scoped>\n",
       "    .dataframe tbody tr th:only-of-type {\n",
       "        vertical-align: middle;\n",
       "    }\n",
       "\n",
       "    .dataframe tbody tr th {\n",
       "        vertical-align: top;\n",
       "    }\n",
       "\n",
       "    .dataframe thead th {\n",
       "        text-align: right;\n",
       "    }\n",
       "</style>\n",
       "<table border=\"1\" class=\"dataframe\">\n",
       "  <thead>\n",
       "    <tr style=\"text-align: right;\">\n",
       "      <th></th>\n",
       "      <th>mean_fit_time</th>\n",
       "      <th>std_fit_time</th>\n",
       "      <th>mean_score_time</th>\n",
       "      <th>std_score_time</th>\n",
       "      <th>param_n_estimators</th>\n",
       "      <th>param_min_samples_split</th>\n",
       "      <th>param_min_samples_leaf</th>\n",
       "      <th>param_max_features</th>\n",
       "      <th>param_max_depth</th>\n",
       "      <th>params</th>\n",
       "      <th>split0_test_precision</th>\n",
       "      <th>split1_test_precision</th>\n",
       "      <th>split2_test_precision</th>\n",
       "      <th>mean_test_precision</th>\n",
       "      <th>std_test_precision</th>\n",
       "      <th>rank_test_precision</th>\n",
       "      <th>split0_test_recall</th>\n",
       "      <th>split1_test_recall</th>\n",
       "      <th>split2_test_recall</th>\n",
       "      <th>mean_test_recall</th>\n",
       "      <th>std_test_recall</th>\n",
       "      <th>rank_test_recall</th>\n",
       "      <th>split0_test_f1</th>\n",
       "      <th>split1_test_f1</th>\n",
       "      <th>split2_test_f1</th>\n",
       "      <th>mean_test_f1</th>\n",
       "      <th>std_test_f1</th>\n",
       "      <th>rank_test_f1</th>\n",
       "    </tr>\n",
       "  </thead>\n",
       "  <tbody>\n",
       "    <tr>\n",
       "      <th>0</th>\n",
       "      <td>2.990623</td>\n",
       "      <td>0.791429</td>\n",
       "      <td>1.939269</td>\n",
       "      <td>0.383966</td>\n",
       "      <td>50</td>\n",
       "      <td>6</td>\n",
       "      <td>6</td>\n",
       "      <td>sqrt</td>\n",
       "      <td>30</td>\n",
       "      <td>{'n_estimators': 50, 'min_samples_split': 6, '...</td>\n",
       "      <td>0.596639</td>\n",
       "      <td>0.544554</td>\n",
       "      <td>0.630435</td>\n",
       "      <td>0.590543</td>\n",
       "      <td>0.035324</td>\n",
       "      <td>288</td>\n",
       "      <td>0.049825</td>\n",
       "      <td>0.038596</td>\n",
       "      <td>0.040702</td>\n",
       "      <td>0.043041</td>\n",
       "      <td>0.004873</td>\n",
       "      <td>72</td>\n",
       "      <td>0.091969</td>\n",
       "      <td>0.072084</td>\n",
       "      <td>0.076467</td>\n",
       "      <td>0.080173</td>\n",
       "      <td>0.008531</td>\n",
       "      <td>74</td>\n",
       "    </tr>\n",
       "    <tr>\n",
       "      <th>1</th>\n",
       "      <td>1.086336</td>\n",
       "      <td>0.716470</td>\n",
       "      <td>0.894494</td>\n",
       "      <td>0.608324</td>\n",
       "      <td>20</td>\n",
       "      <td>8</td>\n",
       "      <td>8</td>\n",
       "      <td>log2</td>\n",
       "      <td>2</td>\n",
       "      <td>{'n_estimators': 20, 'min_samples_split': 8, '...</td>\n",
       "      <td>0.000000</td>\n",
       "      <td>0.000000</td>\n",
       "      <td>0.000000</td>\n",
       "      <td>0.000000</td>\n",
       "      <td>0.000000</td>\n",
       "      <td>408</td>\n",
       "      <td>0.000000</td>\n",
       "      <td>0.000000</td>\n",
       "      <td>0.000000</td>\n",
       "      <td>0.000000</td>\n",
       "      <td>0.000000</td>\n",
       "      <td>408</td>\n",
       "      <td>0.000000</td>\n",
       "      <td>0.000000</td>\n",
       "      <td>0.000000</td>\n",
       "      <td>0.000000</td>\n",
       "      <td>0.000000</td>\n",
       "      <td>408</td>\n",
       "    </tr>\n",
       "    <tr>\n",
       "      <th>2</th>\n",
       "      <td>1.068837</td>\n",
       "      <td>0.460275</td>\n",
       "      <td>1.309421</td>\n",
       "      <td>0.658818</td>\n",
       "      <td>10</td>\n",
       "      <td>9</td>\n",
       "      <td>6</td>\n",
       "      <td>log2</td>\n",
       "      <td>7</td>\n",
       "      <td>{'n_estimators': 10, 'min_samples_split': 9, '...</td>\n",
       "      <td>0.482759</td>\n",
       "      <td>0.615385</td>\n",
       "      <td>0.607843</td>\n",
       "      <td>0.568662</td>\n",
       "      <td>0.060821</td>\n",
       "      <td>316</td>\n",
       "      <td>0.039298</td>\n",
       "      <td>0.011228</td>\n",
       "      <td>0.021754</td>\n",
       "      <td>0.024094</td>\n",
       "      <td>0.011578</td>\n",
       "      <td>191</td>\n",
       "      <td>0.072680</td>\n",
       "      <td>0.022054</td>\n",
       "      <td>0.042005</td>\n",
       "      <td>0.045580</td>\n",
       "      <td>0.020822</td>\n",
       "      <td>192</td>\n",
       "    </tr>\n",
       "    <tr>\n",
       "      <th>3</th>\n",
       "      <td>4.579583</td>\n",
       "      <td>0.176989</td>\n",
       "      <td>1.165867</td>\n",
       "      <td>0.439143</td>\n",
       "      <td>80</td>\n",
       "      <td>6</td>\n",
       "      <td>1</td>\n",
       "      <td>sqrt</td>\n",
       "      <td>10</td>\n",
       "      <td>{'n_estimators': 80, 'min_samples_split': 6, '...</td>\n",
       "      <td>0.548148</td>\n",
       "      <td>0.616279</td>\n",
       "      <td>0.641304</td>\n",
       "      <td>0.601911</td>\n",
       "      <td>0.039365</td>\n",
       "      <td>273</td>\n",
       "      <td>0.051930</td>\n",
       "      <td>0.037193</td>\n",
       "      <td>0.041404</td>\n",
       "      <td>0.043509</td>\n",
       "      <td>0.006198</td>\n",
       "      <td>69</td>\n",
       "      <td>0.094872</td>\n",
       "      <td>0.070152</td>\n",
       "      <td>0.077785</td>\n",
       "      <td>0.080936</td>\n",
       "      <td>0.010335</td>\n",
       "      <td>69</td>\n",
       "    </tr>\n",
       "    <tr>\n",
       "      <th>4</th>\n",
       "      <td>2.121497</td>\n",
       "      <td>0.189710</td>\n",
       "      <td>0.708456</td>\n",
       "      <td>0.292527</td>\n",
       "      <td>20</td>\n",
       "      <td>7</td>\n",
       "      <td>20</td>\n",
       "      <td>auto</td>\n",
       "      <td>20</td>\n",
       "      <td>{'n_estimators': 20, 'min_samples_split': 7, '...</td>\n",
       "      <td>0.597015</td>\n",
       "      <td>0.707317</td>\n",
       "      <td>0.647059</td>\n",
       "      <td>0.650464</td>\n",
       "      <td>0.045095</td>\n",
       "      <td>159</td>\n",
       "      <td>0.028070</td>\n",
       "      <td>0.020351</td>\n",
       "      <td>0.023158</td>\n",
       "      <td>0.023860</td>\n",
       "      <td>0.003190</td>\n",
       "      <td>192</td>\n",
       "      <td>0.053619</td>\n",
       "      <td>0.039563</td>\n",
       "      <td>0.044715</td>\n",
       "      <td>0.045966</td>\n",
       "      <td>0.005806</td>\n",
       "      <td>191</td>\n",
       "    </tr>\n",
       "    <tr>\n",
       "      <th>5</th>\n",
       "      <td>2.750262</td>\n",
       "      <td>0.050054</td>\n",
       "      <td>1.683301</td>\n",
       "      <td>0.651228</td>\n",
       "      <td>90</td>\n",
       "      <td>20</td>\n",
       "      <td>3</td>\n",
       "      <td>log2</td>\n",
       "      <td>3</td>\n",
       "      <td>{'n_estimators': 90, 'min_samples_split': 20, ...</td>\n",
       "      <td>0.000000</td>\n",
       "      <td>0.000000</td>\n",
       "      <td>0.000000</td>\n",
       "      <td>0.000000</td>\n",
       "      <td>0.000000</td>\n",
       "      <td>408</td>\n",
       "      <td>0.000000</td>\n",
       "      <td>0.000000</td>\n",
       "      <td>0.000000</td>\n",
       "      <td>0.000000</td>\n",
       "      <td>0.000000</td>\n",
       "      <td>408</td>\n",
       "      <td>0.000000</td>\n",
       "      <td>0.000000</td>\n",
       "      <td>0.000000</td>\n",
       "      <td>0.000000</td>\n",
       "      <td>0.000000</td>\n",
       "      <td>408</td>\n",
       "    </tr>\n",
       "    <tr>\n",
       "      <th>6</th>\n",
       "      <td>3.636708</td>\n",
       "      <td>0.147668</td>\n",
       "      <td>0.990929</td>\n",
       "      <td>0.110578</td>\n",
       "      <td>80</td>\n",
       "      <td>9</td>\n",
       "      <td>2</td>\n",
       "      <td>auto</td>\n",
       "      <td>5</td>\n",
       "      <td>{'n_estimators': 80, 'min_samples_split': 9, '...</td>\n",
       "      <td>0.600000</td>\n",
       "      <td>0.833333</td>\n",
       "      <td>0.846154</td>\n",
       "      <td>0.759829</td>\n",
       "      <td>0.113137</td>\n",
       "      <td>32</td>\n",
       "      <td>0.008421</td>\n",
       "      <td>0.003509</td>\n",
       "      <td>0.007719</td>\n",
       "      <td>0.006550</td>\n",
       "      <td>0.002169</td>\n",
       "      <td>328</td>\n",
       "      <td>0.016609</td>\n",
       "      <td>0.006988</td>\n",
       "      <td>0.015299</td>\n",
       "      <td>0.012965</td>\n",
       "      <td>0.004260</td>\n",
       "      <td>332</td>\n",
       "    </tr>\n",
       "    <tr>\n",
       "      <th>7</th>\n",
       "      <td>3.355694</td>\n",
       "      <td>0.144175</td>\n",
       "      <td>0.975632</td>\n",
       "      <td>0.180491</td>\n",
       "      <td>60</td>\n",
       "      <td>7</td>\n",
       "      <td>2</td>\n",
       "      <td>auto</td>\n",
       "      <td>7</td>\n",
       "      <td>{'n_estimators': 60, 'min_samples_split': 7, '...</td>\n",
       "      <td>0.623188</td>\n",
       "      <td>0.714286</td>\n",
       "      <td>0.717391</td>\n",
       "      <td>0.684955</td>\n",
       "      <td>0.043694</td>\n",
       "      <td>102</td>\n",
       "      <td>0.030175</td>\n",
       "      <td>0.017544</td>\n",
       "      <td>0.023158</td>\n",
       "      <td>0.023626</td>\n",
       "      <td>0.005167</td>\n",
       "      <td>193</td>\n",
       "      <td>0.057564</td>\n",
       "      <td>0.034247</td>\n",
       "      <td>0.044867</td>\n",
       "      <td>0.045559</td>\n",
       "      <td>0.009532</td>\n",
       "      <td>193</td>\n",
       "    </tr>\n",
       "    <tr>\n",
       "      <th>8</th>\n",
       "      <td>2.136338</td>\n",
       "      <td>0.175127</td>\n",
       "      <td>1.542185</td>\n",
       "      <td>0.042932</td>\n",
       "      <td>60</td>\n",
       "      <td>5</td>\n",
       "      <td>30</td>\n",
       "      <td>log2</td>\n",
       "      <td>5</td>\n",
       "      <td>{'n_estimators': 60, 'min_samples_split': 5, '...</td>\n",
       "      <td>0.545455</td>\n",
       "      <td>0.750000</td>\n",
       "      <td>0.714286</td>\n",
       "      <td>0.669913</td>\n",
       "      <td>0.089205</td>\n",
       "      <td>116</td>\n",
       "      <td>0.004211</td>\n",
       "      <td>0.002105</td>\n",
       "      <td>0.003509</td>\n",
       "      <td>0.003275</td>\n",
       "      <td>0.000875</td>\n",
       "      <td>349</td>\n",
       "      <td>0.008357</td>\n",
       "      <td>0.004199</td>\n",
       "      <td>0.006983</td>\n",
       "      <td>0.006513</td>\n",
       "      <td>0.001730</td>\n",
       "      <td>349</td>\n",
       "    </tr>\n",
       "    <tr>\n",
       "      <th>9</th>\n",
       "      <td>2.987922</td>\n",
       "      <td>0.287430</td>\n",
       "      <td>1.018366</td>\n",
       "      <td>0.102359</td>\n",
       "      <td>80</td>\n",
       "      <td>30</td>\n",
       "      <td>6</td>\n",
       "      <td>sqrt</td>\n",
       "      <td>4</td>\n",
       "      <td>{'n_estimators': 80, 'min_samples_split': 30, ...</td>\n",
       "      <td>0.600000</td>\n",
       "      <td>0.000000</td>\n",
       "      <td>0.500000</td>\n",
       "      <td>0.366667</td>\n",
       "      <td>0.262467</td>\n",
       "      <td>366</td>\n",
       "      <td>0.002105</td>\n",
       "      <td>0.000000</td>\n",
       "      <td>0.000702</td>\n",
       "      <td>0.000936</td>\n",
       "      <td>0.000875</td>\n",
       "      <td>364</td>\n",
       "      <td>0.004196</td>\n",
       "      <td>0.000000</td>\n",
       "      <td>0.001402</td>\n",
       "      <td>0.001866</td>\n",
       "      <td>0.001744</td>\n",
       "      <td>365</td>\n",
       "    </tr>\n",
       "  </tbody>\n",
       "</table>\n",
       "</div>"
      ],
      "text/plain": [
       "   mean_fit_time  std_fit_time  mean_score_time  std_score_time  \\\n",
       "0       2.990623      0.791429         1.939269        0.383966   \n",
       "1       1.086336      0.716470         0.894494        0.608324   \n",
       "2       1.068837      0.460275         1.309421        0.658818   \n",
       "3       4.579583      0.176989         1.165867        0.439143   \n",
       "4       2.121497      0.189710         0.708456        0.292527   \n",
       "5       2.750262      0.050054         1.683301        0.651228   \n",
       "6       3.636708      0.147668         0.990929        0.110578   \n",
       "7       3.355694      0.144175         0.975632        0.180491   \n",
       "8       2.136338      0.175127         1.542185        0.042932   \n",
       "9       2.987922      0.287430         1.018366        0.102359   \n",
       "\n",
       "  param_n_estimators param_min_samples_split param_min_samples_leaf  \\\n",
       "0                 50                       6                      6   \n",
       "1                 20                       8                      8   \n",
       "2                 10                       9                      6   \n",
       "3                 80                       6                      1   \n",
       "4                 20                       7                     20   \n",
       "5                 90                      20                      3   \n",
       "6                 80                       9                      2   \n",
       "7                 60                       7                      2   \n",
       "8                 60                       5                     30   \n",
       "9                 80                      30                      6   \n",
       "\n",
       "  param_max_features param_max_depth  \\\n",
       "0               sqrt              30   \n",
       "1               log2               2   \n",
       "2               log2               7   \n",
       "3               sqrt              10   \n",
       "4               auto              20   \n",
       "5               log2               3   \n",
       "6               auto               5   \n",
       "7               auto               7   \n",
       "8               log2               5   \n",
       "9               sqrt               4   \n",
       "\n",
       "                                              params  split0_test_precision  \\\n",
       "0  {'n_estimators': 50, 'min_samples_split': 6, '...               0.596639   \n",
       "1  {'n_estimators': 20, 'min_samples_split': 8, '...               0.000000   \n",
       "2  {'n_estimators': 10, 'min_samples_split': 9, '...               0.482759   \n",
       "3  {'n_estimators': 80, 'min_samples_split': 6, '...               0.548148   \n",
       "4  {'n_estimators': 20, 'min_samples_split': 7, '...               0.597015   \n",
       "5  {'n_estimators': 90, 'min_samples_split': 20, ...               0.000000   \n",
       "6  {'n_estimators': 80, 'min_samples_split': 9, '...               0.600000   \n",
       "7  {'n_estimators': 60, 'min_samples_split': 7, '...               0.623188   \n",
       "8  {'n_estimators': 60, 'min_samples_split': 5, '...               0.545455   \n",
       "9  {'n_estimators': 80, 'min_samples_split': 30, ...               0.600000   \n",
       "\n",
       "   split1_test_precision  split2_test_precision  mean_test_precision  \\\n",
       "0               0.544554               0.630435             0.590543   \n",
       "1               0.000000               0.000000             0.000000   \n",
       "2               0.615385               0.607843             0.568662   \n",
       "3               0.616279               0.641304             0.601911   \n",
       "4               0.707317               0.647059             0.650464   \n",
       "5               0.000000               0.000000             0.000000   \n",
       "6               0.833333               0.846154             0.759829   \n",
       "7               0.714286               0.717391             0.684955   \n",
       "8               0.750000               0.714286             0.669913   \n",
       "9               0.000000               0.500000             0.366667   \n",
       "\n",
       "   std_test_precision  rank_test_precision  split0_test_recall  \\\n",
       "0            0.035324                  288            0.049825   \n",
       "1            0.000000                  408            0.000000   \n",
       "2            0.060821                  316            0.039298   \n",
       "3            0.039365                  273            0.051930   \n",
       "4            0.045095                  159            0.028070   \n",
       "5            0.000000                  408            0.000000   \n",
       "6            0.113137                   32            0.008421   \n",
       "7            0.043694                  102            0.030175   \n",
       "8            0.089205                  116            0.004211   \n",
       "9            0.262467                  366            0.002105   \n",
       "\n",
       "   split1_test_recall  split2_test_recall  mean_test_recall  std_test_recall  \\\n",
       "0            0.038596            0.040702          0.043041         0.004873   \n",
       "1            0.000000            0.000000          0.000000         0.000000   \n",
       "2            0.011228            0.021754          0.024094         0.011578   \n",
       "3            0.037193            0.041404          0.043509         0.006198   \n",
       "4            0.020351            0.023158          0.023860         0.003190   \n",
       "5            0.000000            0.000000          0.000000         0.000000   \n",
       "6            0.003509            0.007719          0.006550         0.002169   \n",
       "7            0.017544            0.023158          0.023626         0.005167   \n",
       "8            0.002105            0.003509          0.003275         0.000875   \n",
       "9            0.000000            0.000702          0.000936         0.000875   \n",
       "\n",
       "   rank_test_recall  split0_test_f1  split1_test_f1  split2_test_f1  \\\n",
       "0                72        0.091969        0.072084        0.076467   \n",
       "1               408        0.000000        0.000000        0.000000   \n",
       "2               191        0.072680        0.022054        0.042005   \n",
       "3                69        0.094872        0.070152        0.077785   \n",
       "4               192        0.053619        0.039563        0.044715   \n",
       "5               408        0.000000        0.000000        0.000000   \n",
       "6               328        0.016609        0.006988        0.015299   \n",
       "7               193        0.057564        0.034247        0.044867   \n",
       "8               349        0.008357        0.004199        0.006983   \n",
       "9               364        0.004196        0.000000        0.001402   \n",
       "\n",
       "   mean_test_f1  std_test_f1  rank_test_f1  \n",
       "0      0.080173     0.008531            74  \n",
       "1      0.000000     0.000000           408  \n",
       "2      0.045580     0.020822           192  \n",
       "3      0.080936     0.010335            69  \n",
       "4      0.045966     0.005806           191  \n",
       "5      0.000000     0.000000           408  \n",
       "6      0.012965     0.004260           332  \n",
       "7      0.045559     0.009532           193  \n",
       "8      0.006513     0.001730           349  \n",
       "9      0.001866     0.001744           365  "
      ]
     },
     "execution_count": 125,
     "metadata": {},
     "output_type": "execute_result"
    }
   ],
   "source": [
    "results = pd.DataFrame( mejor_fit.cv_results_)\n",
    "results.head(10)"
   ]
  },
  {
   "cell_type": "code",
   "execution_count": 126,
   "metadata": {},
   "outputs": [
    {
     "data": {
      "text/plain": [
       "{'n_estimators': 30,\n",
       " 'min_samples_split': 2,\n",
       " 'min_samples_leaf': 1,\n",
       " 'max_features': 'sqrt',\n",
       " 'max_depth': 30}"
      ]
     },
     "execution_count": 126,
     "metadata": {},
     "output_type": "execute_result"
    }
   ],
   "source": [
    "mejor_fit.best_params_"
   ]
  },
  {
   "cell_type": "code",
   "execution_count": 127,
   "metadata": {},
   "outputs": [
    {
     "data": {
      "text/plain": [
       "0.15018094101442706"
      ]
     },
     "execution_count": 127,
     "metadata": {},
     "output_type": "execute_result"
    }
   ],
   "source": [
    "mejor_fit.best_score_"
   ]
  },
  {
   "cell_type": "code",
   "execution_count": 128,
   "metadata": {},
   "outputs": [],
   "source": [
    "best_results = results[[ c for c in results.columns if 'split' in c][1:]].iloc[mejor_fit.best_index_].reset_index()\n",
    "best_results['split'], best_results['set'], best_results['metric'] = zip(*list(best_results['index'].apply(lambda x: x.split('_'))))\n",
    "best_results.rename(columns = {mejor_fit.best_index_: 'value'}, inplace = True)\n",
    "best_results.drop(columns = 'index', inplace = True)"
   ]
  },
  {
   "cell_type": "code",
   "execution_count": 129,
   "metadata": {},
   "outputs": [
    {
     "data": {
      "text/html": [
       "<div>\n",
       "<style scoped>\n",
       "    .dataframe tbody tr th:only-of-type {\n",
       "        vertical-align: middle;\n",
       "    }\n",
       "\n",
       "    .dataframe tbody tr th {\n",
       "        vertical-align: top;\n",
       "    }\n",
       "\n",
       "    .dataframe thead th {\n",
       "        text-align: right;\n",
       "    }\n",
       "</style>\n",
       "<table border=\"1\" class=\"dataframe\">\n",
       "  <thead>\n",
       "    <tr style=\"text-align: right;\">\n",
       "      <th></th>\n",
       "      <th>value</th>\n",
       "      <th>split</th>\n",
       "      <th>set</th>\n",
       "      <th>metric</th>\n",
       "    </tr>\n",
       "  </thead>\n",
       "  <tbody>\n",
       "    <tr>\n",
       "      <th>0</th>\n",
       "      <td>0.424242</td>\n",
       "      <td>split0</td>\n",
       "      <td>test</td>\n",
       "      <td>precision</td>\n",
       "    </tr>\n",
       "    <tr>\n",
       "      <th>1</th>\n",
       "      <td>0.457031</td>\n",
       "      <td>split1</td>\n",
       "      <td>test</td>\n",
       "      <td>precision</td>\n",
       "    </tr>\n",
       "    <tr>\n",
       "      <th>2</th>\n",
       "      <td>0.384127</td>\n",
       "      <td>split2</td>\n",
       "      <td>test</td>\n",
       "      <td>precision</td>\n",
       "    </tr>\n",
       "    <tr>\n",
       "      <th>3</th>\n",
       "      <td>0.108070</td>\n",
       "      <td>split0</td>\n",
       "      <td>test</td>\n",
       "      <td>recall</td>\n",
       "    </tr>\n",
       "    <tr>\n",
       "      <th>4</th>\n",
       "      <td>0.082105</td>\n",
       "      <td>split1</td>\n",
       "      <td>test</td>\n",
       "      <td>recall</td>\n",
       "    </tr>\n",
       "  </tbody>\n",
       "</table>\n",
       "</div>"
      ],
      "text/plain": [
       "      value   split   set     metric\n",
       "0  0.424242  split0  test  precision\n",
       "1  0.457031  split1  test  precision\n",
       "2  0.384127  split2  test  precision\n",
       "3  0.108070  split0  test     recall\n",
       "4  0.082105  split1  test     recall"
      ]
     },
     "execution_count": 129,
     "metadata": {},
     "output_type": "execute_result"
    }
   ],
   "source": [
    "best_results.head()"
   ]
  },
  {
   "cell_type": "code",
   "execution_count": 130,
   "metadata": {},
   "outputs": [
    {
     "data": {
      "text/plain": [
       "<AxesSubplot:xlabel='metric', ylabel='value'>"
      ]
     },
     "execution_count": 130,
     "metadata": {},
     "output_type": "execute_result"
    },
    {
     "data": {
      "image/png": "[encoded data removed]",
      "text/plain": [
       "<Figure size 720x504 with 1 Axes>"
      ]
     },
     "metadata": {
      "needs_background": "light"
     },
     "output_type": "display_data"
    }
   ],
   "source": [
    "plt.figure(figsize = (10, 7))\n",
    "sns.boxplot(x = 'metric', y = 'value', showmeans = True, data = best_results)"
   ]
  },
  {
   "cell_type": "code",
   "execution_count": 137,
   "metadata": {},
   "outputs": [],
   "source": [
    "filename = 'RF/'+ str(datetime.now().strftime(\"%d-%H-%M-%S\")) + '.pkl'"
   ]
  },
  {
   "cell_type": "code",
   "execution_count": 138,
   "metadata": {},
   "outputs": [],
   "source": [
    "pkl.dump(mejor_fit, open(filename, 'wb'))"
   ]
  },
  {
   "cell_type": "code",
   "execution_count": 139,
   "metadata": {},
   "outputs": [
    {
     "data": {
      "text/plain": [
       "['04-11-42-57.pkl', '11-06-48.pkl', '11-20-42.pkl']"
      ]
     },
     "execution_count": 139,
     "metadata": {},
     "output_type": "execute_result"
    }
   ],
   "source": [
    "lista_modelos = [f for f in os.listdir('RF') if f.endswith('.pkl')]\n",
    "lista_modelos"
   ]
  },
  {
   "cell_type": "code",
   "execution_count": 140,
   "metadata": {},
   "outputs": [
    {
     "name": "stdout",
     "output_type": "stream",
     "text": [
      "04-11-42-57.pkl 0.15018094101442706\n",
      "{'n_estimators': 30, 'min_samples_split': 2, 'min_samples_leaf': 1, 'max_features': 'sqrt', 'max_depth': 30}\n",
      "11-06-48.pkl 0.0998859455922919\n",
      "{'n_estimators': 10, 'min_samples_split': 4, 'min_samples_leaf': 4, 'max_features': 'sqrt', 'max_depth': 10}\n",
      "11-20-42.pkl 0.0998859455922919\n",
      "{'n_estimators': 10, 'min_samples_split': 4, 'min_samples_leaf': 4, 'max_features': 'sqrt', 'max_depth': 10}\n"
     ]
    }
   ],
   "source": [
    "mejor_score = 0\n",
    "mejor_fit = None\n",
    "for m in lista_modelos:\n",
    "    modelo = pkl.load(open('RF/' + m, 'rb'))\n",
    "    print(m, modelo.best_score_)\n",
    "    print(modelo.best_params_)\n",
    "    if modelo.best_score_ > mejor_score:\n",
    "        mejor_score = modelo.best_score_\n",
    "        mejor_fit = modelo"
   ]
  },
  {
   "cell_type": "code",
   "execution_count": 141,
   "metadata": {},
   "outputs": [
    {
     "data": {
      "image/png": "[encoded data removed]",
      "text/plain": [
       "<Figure size 1080x864 with 8 Axes>"
      ]
     },
     "metadata": {
      "needs_background": "light"
     },
     "output_type": "display_data"
    }
   ],
   "source": [
    "mejor_pred_train = mejor_fit.predict(x_train)\n",
    "mejor_pred_test = mejor_fit.predict(x_test)\n",
    "\n",
    "cm_train = confusion_matrix(y_train, mejor_pred_train)\n",
    "cm_test = confusion_matrix(y_test, mejor_pred_test)\n",
    "cm_train_norm = confusion_matrix(y_train, mejor_pred_train, normalize='true')\n",
    "cm_test_norm = confusion_matrix(y_test, mejor_pred_test, normalize='true')\n",
    "\n",
    "fig, ((ax1, ax2), (ax3, ax4)) = plt.subplots(2, 2, figsize=(15, 12))\n",
    "ax1.set_title('Matriz de entrenamiento')\n",
    "ax2.set_title('Matriz de prueba')\n",
    "ax3.set_title('Matriz de entrenamiento normalizada')\n",
    "ax4.set_title('Matriz de prueba normalizada')\n",
    "disp1 = ConfusionMatrixDisplay(confusion_matrix=cm_train, display_labels=['No CHD', 'CHD']).plot(ax=ax1)\n",
    "disp2 = ConfusionMatrixDisplay(confusion_matrix=cm_test, display_labels=['No CHD', 'CHD']).plot(ax=ax2)\n",
    "disp3 = ConfusionMatrixDisplay(confusion_matrix=cm_train_norm, display_labels=['No CHD', 'CHD']).plot(ax=ax3)\n",
    "disp4 = ConfusionMatrixDisplay(confusion_matrix=cm_test_norm, display_labels=['No CHD', 'CHD']).plot(ax=ax4)\n",
    "\n",
    "plt.show()"
   ]
  },
  {
   "cell_type": "code",
   "execution_count": 142,
   "metadata": {},
   "outputs": [
    {
     "data": {
      "text/html": [
       "<div>\n",
       "<style scoped>\n",
       "    .dataframe tbody tr th:only-of-type {\n",
       "        vertical-align: middle;\n",
       "    }\n",
       "\n",
       "    .dataframe tbody tr th {\n",
       "        vertical-align: top;\n",
       "    }\n",
       "\n",
       "    .dataframe thead th {\n",
       "        text-align: right;\n",
       "    }\n",
       "</style>\n",
       "<table border=\"1\" class=\"dataframe\">\n",
       "  <thead>\n",
       "    <tr style=\"text-align: right;\">\n",
       "      <th></th>\n",
       "      <th>Train</th>\n",
       "      <th>Test</th>\n",
       "    </tr>\n",
       "  </thead>\n",
       "  <tbody>\n",
       "    <tr>\n",
       "      <th>Accuracy</th>\n",
       "      <td>0.995798</td>\n",
       "      <td>0.910626</td>\n",
       "    </tr>\n",
       "    <tr>\n",
       "      <th>Precision</th>\n",
       "      <td>0.998285</td>\n",
       "      <td>0.385593</td>\n",
       "    </tr>\n",
       "    <tr>\n",
       "      <th>Recall</th>\n",
       "      <td>0.952982</td>\n",
       "      <td>0.086502</td>\n",
       "    </tr>\n",
       "    <tr>\n",
       "      <th>F1</th>\n",
       "      <td>0.975108</td>\n",
       "      <td>0.141304</td>\n",
       "    </tr>\n",
       "  </tbody>\n",
       "</table>\n",
       "</div>"
      ],
      "text/plain": [
       "              Train      Test\n",
       "Accuracy   0.995798  0.910626\n",
       "Precision  0.998285  0.385593\n",
       "Recall     0.952982  0.086502\n",
       "F1         0.975108  0.141304"
      ]
     },
     "execution_count": 142,
     "metadata": {},
     "output_type": "execute_result"
    }
   ],
   "source": [
    "pd.DataFrame([{'Train': accuracy_score(y_train, mejor_pred_train), 'Test': accuracy_score(y_test, mejor_pred_test)},\n",
    "                {'Train': precision_score(y_train, mejor_pred_train), 'Test': precision_score(y_test, mejor_pred_test)},\n",
    "                {'Train': recall_score(y_train, mejor_pred_train), 'Test': recall_score(y_test, mejor_pred_test)},\n",
    "                {'Train': f1_score(y_train, mejor_pred_train), 'Test': f1_score(y_test, mejor_pred_test)}\n",
    "                ], index=['Accuracy', 'Precision', 'Recall', 'F1'])\n"
   ]
  },
  {
   "cell_type": "code",
   "execution_count": 143,
   "metadata": {},
   "outputs": [
    {
     "data": {
      "text/plain": [
       "<AxesSubplot:ylabel='Feature'>"
      ]
     },
     "execution_count": 143,
     "metadata": {},
     "output_type": "execute_result"
    },
    {
     "data": {
      "image/png": "[encoded data removed]",
      "text/plain": [
       "<Figure size 1080x360 with 1 Axes>"
      ]
     },
     "metadata": {
      "needs_background": "light"
     },
     "output_type": "display_data"
    }
   ],
   "source": [
    "importancia = pd.DataFrame({'Feature': features, 'Importancia': mejor_fit.best_estimator_.feature_importances_})\n",
    "importancia.columns = ['Feature', 'Importancia']\n",
    "importancia = importancia.sort_values(by='Importancia', ascending=True)\n",
    "importancia.plot.barh(x='Feature', y='Importancia', figsize=(15, 5))"
   ]
  },
  {
   "cell_type": "code",
   "execution_count": 146,
   "metadata": {},
   "outputs": [],
   "source": [
    "fig, axes = plt.subplots(3, 1, figsize=(5, 15))\n",
    "for i in range(3):\n",
    "    tree.plot_tree(mejor_fit.best_estimator_.estimators_[i], \n",
    "                   ax=axes[i], feature_names=features, \n",
    "                   class_names=['No CHD', 'CHD'], filled=True, \n",
    "                   rounded=True, fontsize=5)"
   ]
  },
  {
   "cell_type": "code",
   "execution_count": null,
   "metadata": {},
   "outputs": [],
   "source": []
  }
 ],
 "metadata": {
  "kernelspec": {
   "display_name": "Python 3.8.5 64-bit",
   "language": "python",
   "name": "python3"
  },
  "language_info": {
   "codemirror_mode": {
    "name": "ipython",
    "version": 3
   },
   "file_extension": ".py",
   "mimetype": "text/x-python",
   "name": "python",
   "nbconvert_exporter": "python",
   "pygments_lexer": "ipython3",
   "version": "3.8.5"
  },
  "orig_nbformat": 4,
  "vscode": {
   "interpreter": {
    "hash": "29bac995d0c570c5b3d713e56b73d69daaa4566681c7e7cdcd767b69a1be78b9"
   }
  }
 },
 "nbformat": 4,
 "nbformat_minor": 2
}
